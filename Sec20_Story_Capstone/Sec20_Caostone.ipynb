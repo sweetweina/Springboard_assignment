{
 "cells": [
  {
   "cell_type": "markdown",
   "id": "7bce822b-f5d6-4f5e-b83d-cba8b90a24e5",
   "metadata": {},
   "source": [
    "# Section 20 Capstone: Story Telling\n",
    "## Animal Bites data \n",
    "### https://www.kaggle.com/datasets/rtatman/animal-bites?resource=download\n",
    "#### From Weina Ke, 5/27/2023"
   ]
  },
  {
   "cell_type": "markdown",
   "id": "b2b16caa-9eba-43db-b3e8-8e84821b148d",
   "metadata": {
    "tags": []
   },
   "source": [
    "## Targeting curious non-technical public"
   ]
  },
  {
   "cell_type": "markdown",
   "id": "c4aa5c88-1958-4b3d-a870-8c7481e37885",
   "metadata": {},
   "source": [
    "In the United States, animal bites are often reported to law enforcement (such as animal control). The main concern with an animal bite is that the animal may be rabid. This dataset includes information on over 9,000 animal bites which occurred near Louisville, Kentucky from 1985 to 2017 and includes information on whether the animal was quarantined after the bite occurred and whether that animal was rabid.\n",
    "\n",
    "It's really interesting to see what animals bites human, the mere concept is interesting to public. This project aims to provide some information on how to avoid animal bites if possible, and what to expect after bites."
   ]
  },
  {
   "cell_type": "markdown",
   "id": "7ea0ede9-8dbb-4da6-a969-3ba852fd3a3c",
   "metadata": {},
   "source": [
    "#### Consider our beloved fluffy family member can't talk directly to us, I want to ask in general when to give\n",
    "#### them more personal spaces, does genders have differrent preference, and which part of my body should I take\n",
    "#### extra caution"
   ]
  },
  {
   "cell_type": "code",
   "execution_count": 104,
   "id": "d0d7bbb0-2199-451f-bab4-a32c69ab808d",
   "metadata": {},
   "outputs": [],
   "source": [
    "import pandas as pd\n",
    "import csv\n",
    "import numpy as np\n",
    "import matplotlib.pyplot as plt\n",
    "import warnings\n",
    "warnings.filterwarnings('ignore')\n"
   ]
  },
  {
   "cell_type": "markdown",
   "id": "9c7b5c57-c31e-4c8b-a0a3-1817f0800e11",
   "metadata": {},
   "source": [
    "#### Read the dataset and show details"
   ]
  },
  {
   "cell_type": "markdown",
   "id": "3b572169-20ab-4fb2-b392-96ae0c8b3b70",
   "metadata": {},
   "source": [
    "#### Content:\n",
    "Attributes of animal bite incidents reported to and investigated by Louisville Metro Department of Public Health and Wellness. Personal/identifying data has been removed. This dataset is a single .csv with the following fields.\n",
    "\n",
    "###### bite_date: The date the bite occurred\n",
    "###### SpeciesIDDesc: The species of animal that did the biting\n",
    "###### BreedIDDesc: Breed (if known)\n",
    "###### GenderIDDesc: Gender (of the animal)\n",
    "###### color: color of the animal\n",
    "###### vaccination_yrs: how many years had passed since the last vaccination\n",
    "###### vaccination_date: the date of the last vaccination\n",
    "###### victim_zip: the zipcode of the victim\n",
    "###### AdvIssuedYNDesc: whether advice was issued\n",
    "###### WhereBittenIDDesc: Where on the body the victim was bitten\n",
    "###### quarantine_date: whether the animal was quarantined\n",
    "###### DispositionIDDesc: whether the animal was released from quarantine\n",
    "###### head_sent_date: the date the animal’s head was sent to the lab\n",
    "###### release_date: the date the animal was released\n",
    "###### ResultsIDDesc: results from lab tests (for rabies)"
   ]
  },
  {
   "cell_type": "code",
   "execution_count": 5,
   "id": "44901bed-4a6f-4d0f-9df4-21f4f5ad0040",
   "metadata": {},
   "outputs": [
    {
     "name": "stdout",
     "output_type": "stream",
     "text": [
      "<class 'pandas.core.frame.DataFrame'>\n",
      "RangeIndex: 9003 entries, 0 to 9002\n",
      "Data columns (total 15 columns):\n",
      " #   Column             Non-Null Count  Dtype  \n",
      "---  ------             --------------  -----  \n",
      " 0   bite_date          8686 non-null   object \n",
      " 1   SpeciesIDDesc      8885 non-null   object \n",
      " 2   BreedIDDesc        3759 non-null   object \n",
      " 3   GenderIDDesc       6477 non-null   object \n",
      " 4   color              6426 non-null   object \n",
      " 5   vaccination_yrs    3738 non-null   float64\n",
      " 6   vaccination_date   4115 non-null   object \n",
      " 7   victim_zip         7165 non-null   object \n",
      " 8   AdvIssuedYNDesc    2565 non-null   object \n",
      " 9   WhereBittenIDDesc  8387 non-null   object \n",
      " 10  quarantine_date    2020 non-null   object \n",
      " 11  DispositionIDDesc  1535 non-null   object \n",
      " 12  head_sent_date     395 non-null    object \n",
      " 13  release_date       1445 non-null   object \n",
      " 14  ResultsIDDesc      1543 non-null   object \n",
      "dtypes: float64(1), object(14)\n",
      "memory usage: 1.0+ MB\n"
     ]
    }
   ],
   "source": [
    "raw_dataset = pd.read_csv(\"Health_AnimalBites.csv\")\n",
    "raw_dataset.info()"
   ]
  },
  {
   "cell_type": "markdown",
   "id": "e7fbb0e3-65dd-4b23-996a-3bd3502f5fbc",
   "metadata": {},
   "source": [
    "#### Check how many unique values are in these columns"
   ]
  },
  {
   "cell_type": "code",
   "execution_count": 25,
   "id": "a3a982dd-572e-4f51-ba5d-25817d3a1b52",
   "metadata": {},
   "outputs": [
    {
     "name": "stdout",
     "output_type": "stream",
     "text": [
      "AdvIssuedYNDesc         2\n",
      "GenderIDDesc            3\n",
      "WhereBittenIDDesc       3\n",
      "ResultsIDDesc           3\n",
      "vaccination_yrs         4\n",
      "DispositionIDDesc       4\n",
      "SpeciesIDDesc           9\n",
      "BreedIDDesc           101\n",
      "victim_zip            233\n",
      "head_sent_date        325\n",
      "release_date          582\n",
      "quarantine_date       602\n",
      "color                 712\n",
      "vaccination_date     2107\n",
      "bite_date            2702\n",
      "dtype: int64\n"
     ]
    }
   ],
   "source": [
    "# Count the unique values in each column\n",
    "column_counts = raw_dataset.nunique().sort_values()\n",
    "\n",
    "# Display the number of unique values for each column\n",
    "print(column_counts)"
   ]
  },
  {
   "cell_type": "markdown",
   "id": "9bcbed18-af09-45a4-8789-b03a0ca67641",
   "metadata": {},
   "source": [
    "#### Seems like there are even reports without information about the animal...\n",
    "#### Among the infos, ones that is of most interest are species, where bitten, gender of the animal\n",
    "#### Let's first see the data"
   ]
  },
  {
   "cell_type": "code",
   "execution_count": 18,
   "id": "b346d3c3-8ecf-4875-beb8-00c94e53e9c7",
   "metadata": {},
   "outputs": [
    {
     "data": {
      "text/html": [
       "<div>\n",
       "<style scoped>\n",
       "    .dataframe tbody tr th:only-of-type {\n",
       "        vertical-align: middle;\n",
       "    }\n",
       "\n",
       "    .dataframe tbody tr th {\n",
       "        vertical-align: top;\n",
       "    }\n",
       "\n",
       "    .dataframe thead th {\n",
       "        text-align: right;\n",
       "    }\n",
       "</style>\n",
       "<table border=\"1\" class=\"dataframe\">\n",
       "  <thead>\n",
       "    <tr style=\"text-align: right;\">\n",
       "      <th></th>\n",
       "      <th>bite_date</th>\n",
       "      <th>SpeciesIDDesc</th>\n",
       "      <th>BreedIDDesc</th>\n",
       "      <th>GenderIDDesc</th>\n",
       "      <th>color</th>\n",
       "      <th>vaccination_yrs</th>\n",
       "      <th>vaccination_date</th>\n",
       "      <th>victim_zip</th>\n",
       "      <th>AdvIssuedYNDesc</th>\n",
       "      <th>WhereBittenIDDesc</th>\n",
       "      <th>quarantine_date</th>\n",
       "      <th>DispositionIDDesc</th>\n",
       "      <th>head_sent_date</th>\n",
       "      <th>release_date</th>\n",
       "      <th>ResultsIDDesc</th>\n",
       "    </tr>\n",
       "  </thead>\n",
       "  <tbody>\n",
       "    <tr>\n",
       "      <th>0</th>\n",
       "      <td>1985-05-05 00:00:00</td>\n",
       "      <td>DOG</td>\n",
       "      <td>NaN</td>\n",
       "      <td>FEMALE</td>\n",
       "      <td>LIG. BROWN</td>\n",
       "      <td>1.0</td>\n",
       "      <td>1985-06-20 00:00:00</td>\n",
       "      <td>40229</td>\n",
       "      <td>NO</td>\n",
       "      <td>BODY</td>\n",
       "      <td>1985-05-05 00:00:00</td>\n",
       "      <td>UNKNOWN</td>\n",
       "      <td>NaN</td>\n",
       "      <td>NaN</td>\n",
       "      <td>UNKNOWN</td>\n",
       "    </tr>\n",
       "    <tr>\n",
       "      <th>1</th>\n",
       "      <td>1986-02-12 00:00:00</td>\n",
       "      <td>DOG</td>\n",
       "      <td>NaN</td>\n",
       "      <td>UNKNOWN</td>\n",
       "      <td>BRO &amp; BLA</td>\n",
       "      <td>NaN</td>\n",
       "      <td>NaN</td>\n",
       "      <td>40218</td>\n",
       "      <td>NO</td>\n",
       "      <td>BODY</td>\n",
       "      <td>1986-02-12 00:00:00</td>\n",
       "      <td>UNKNOWN</td>\n",
       "      <td>NaN</td>\n",
       "      <td>NaN</td>\n",
       "      <td>UNKNOWN</td>\n",
       "    </tr>\n",
       "  </tbody>\n",
       "</table>\n",
       "</div>"
      ],
      "text/plain": [
       "             bite_date SpeciesIDDesc BreedIDDesc GenderIDDesc       color  \\\n",
       "0  1985-05-05 00:00:00           DOG         NaN       FEMALE  LIG. BROWN   \n",
       "1  1986-02-12 00:00:00           DOG         NaN      UNKNOWN   BRO & BLA   \n",
       "\n",
       "   vaccination_yrs     vaccination_date victim_zip AdvIssuedYNDesc  \\\n",
       "0              1.0  1985-06-20 00:00:00      40229              NO   \n",
       "1              NaN                  NaN      40218              NO   \n",
       "\n",
       "  WhereBittenIDDesc      quarantine_date DispositionIDDesc head_sent_date  \\\n",
       "0              BODY  1985-05-05 00:00:00           UNKNOWN            NaN   \n",
       "1              BODY  1986-02-12 00:00:00           UNKNOWN            NaN   \n",
       "\n",
       "  release_date ResultsIDDesc  \n",
       "0          NaN       UNKNOWN  \n",
       "1          NaN       UNKNOWN  "
      ]
     },
     "execution_count": 18,
     "metadata": {},
     "output_type": "execute_result"
    }
   ],
   "source": [
    "# Check the first few rows of the DataFrame\n",
    "raw_dataset.head(2)"
   ]
  },
  {
   "cell_type": "code",
   "execution_count": 40,
   "id": "08b54fa2-fb2f-4e29-925c-886510a61728",
   "metadata": {},
   "outputs": [],
   "source": [
    "filtered_dataset = raw_dataset.dropna(subset=['SpeciesIDDesc',\n",
    "                                              'GenderIDDesc',\n",
    "                                              'WhereBittenIDDesc',\n",
    "                                              'bite_date'\n",
    "                                             ])"
   ]
  },
  {
   "cell_type": "code",
   "execution_count": 41,
   "id": "1c79401e-2972-4f95-aacc-8cce11ad1573",
   "metadata": {},
   "outputs": [
    {
     "name": "stdout",
     "output_type": "stream",
     "text": [
      "<class 'pandas.core.frame.DataFrame'>\n",
      "Int64Index: 6249 entries, 0 to 9001\n",
      "Data columns (total 15 columns):\n",
      " #   Column             Non-Null Count  Dtype  \n",
      "---  ------             --------------  -----  \n",
      " 0   bite_date          6249 non-null   object \n",
      " 1   SpeciesIDDesc      6249 non-null   object \n",
      " 2   BreedIDDesc        2950 non-null   object \n",
      " 3   GenderIDDesc       6249 non-null   object \n",
      " 4   color              5484 non-null   object \n",
      " 5   vaccination_yrs    3343 non-null   float64\n",
      " 6   vaccination_date   3667 non-null   object \n",
      " 7   victim_zip         5161 non-null   object \n",
      " 8   AdvIssuedYNDesc    2056 non-null   object \n",
      " 9   WhereBittenIDDesc  6249 non-null   object \n",
      " 10  quarantine_date    1825 non-null   object \n",
      " 11  DispositionIDDesc  1500 non-null   object \n",
      " 12  head_sent_date     130 non-null    object \n",
      " 13  release_date       1287 non-null   object \n",
      " 14  ResultsIDDesc      1294 non-null   object \n",
      "dtypes: float64(1), object(14)\n",
      "memory usage: 781.1+ KB\n"
     ]
    }
   ],
   "source": [
    "filtered_dataset.info()"
   ]
  },
  {
   "cell_type": "markdown",
   "id": "059951cb-8908-4c0e-942d-f3e629d422ef",
   "metadata": {},
   "source": [
    "#### Let's find out what animals are there"
   ]
  },
  {
   "cell_type": "code",
   "execution_count": 36,
   "id": "173c721b-f3f9-4dcf-b9ca-013c1c967ed9",
   "metadata": {},
   "outputs": [
    {
     "name": "stdout",
     "output_type": "stream",
     "text": [
      "DOG        5194\n",
      "CAT        1032\n",
      "BAT          14\n",
      "OTHER         3\n",
      "RACCOON       2\n",
      "HORSE         2\n",
      "SKUNK         1\n",
      "FERRET        1\n",
      "Name: SpeciesIDDesc, dtype: int64\n"
     ]
    }
   ],
   "source": [
    "# Explore unique values in categorical columns\n",
    "print(filtered_dataset['SpeciesIDDesc'].value_counts())"
   ]
  },
  {
   "cell_type": "markdown",
   "id": "3c5693a4-ee10-4186-ab2e-610e8418423b",
   "metadata": {},
   "source": [
    "Not suprising, since dog and cat are most commonly seem pets, and most likely in contact with human\n",
    "Let's focus on Dog and Cat"
   ]
  },
  {
   "cell_type": "code",
   "execution_count": 45,
   "id": "55f3a726-46ef-4b5b-8def-2af412005467",
   "metadata": {},
   "outputs": [],
   "source": [
    "filtered_dataset_dc = filtered_dataset[\n",
    "    (filtered_dataset['SpeciesIDDesc'] == 'DOG') |\n",
    "    (filtered_dataset['SpeciesIDDesc'] == 'CAT')\n",
    "]"
   ]
  },
  {
   "cell_type": "code",
   "execution_count": 48,
   "id": "b3eae89a-1709-4662-afd5-eae51835416c",
   "metadata": {},
   "outputs": [
    {
     "name": "stdout",
     "output_type": "stream",
     "text": [
      "<class 'pandas.core.frame.DataFrame'>\n",
      "Int64Index: 6226 entries, 0 to 9001\n",
      "Data columns (total 15 columns):\n",
      " #   Column             Non-Null Count  Dtype  \n",
      "---  ------             --------------  -----  \n",
      " 0   bite_date          6226 non-null   object \n",
      " 1   SpeciesIDDesc      6226 non-null   object \n",
      " 2   BreedIDDesc        2950 non-null   object \n",
      " 3   GenderIDDesc       6226 non-null   object \n",
      " 4   color              5477 non-null   object \n",
      " 5   vaccination_yrs    3342 non-null   float64\n",
      " 6   vaccination_date   3666 non-null   object \n",
      " 7   victim_zip         5140 non-null   object \n",
      " 8   AdvIssuedYNDesc    2040 non-null   object \n",
      " 9   WhereBittenIDDesc  6226 non-null   object \n",
      " 10  quarantine_date    1820 non-null   object \n",
      " 11  DispositionIDDesc  1485 non-null   object \n",
      " 12  head_sent_date     116 non-null    object \n",
      " 13  release_date       1286 non-null   object \n",
      " 14  ResultsIDDesc      1277 non-null   object \n",
      "dtypes: float64(1), object(14)\n",
      "memory usage: 778.2+ KB\n"
     ]
    }
   ],
   "source": [
    "filtered_dataset_dc.info()"
   ]
  },
  {
   "cell_type": "markdown",
   "id": "516c3891-f4b6-410a-8246-ac197c6974ca",
   "metadata": {},
   "source": [
    "#### Seems like there are something interesting with the date info"
   ]
  },
  {
   "cell_type": "code",
   "execution_count": 53,
   "id": "b4509cb1-f98d-45a5-a43e-86f17779d679",
   "metadata": {},
   "outputs": [
    {
     "name": "stdout",
     "output_type": "stream",
     "text": [
      "5013-07-15 00:00:00\n",
      "1952-05-28 00:00:00\n"
     ]
    }
   ],
   "source": [
    "print(filtered_dataset_dc['bite_date'].max())\n",
    "print(filtered_dataset_dc['bite_date'].min())"
   ]
  },
  {
   "cell_type": "markdown",
   "id": "11472475-c96a-4549-9ac4-3320be95f294",
   "metadata": {},
   "source": [
    "#### Let's make the bite date range from the context, 1985 to 2017"
   ]
  },
  {
   "cell_type": "code",
   "execution_count": 105,
   "id": "50100485-7885-4495-ad69-78846f0491a4",
   "metadata": {},
   "outputs": [],
   "source": [
    "# Convert 'bite_date' column to datetime data type\n",
    "filtered_dataset_dc['bite_date'] = pd.to_datetime(filtered_dataset_dc['bite_date'], errors='coerce')\n",
    "\n",
    "# Filter rows based on 'bite_date' range and valid datetime values\n",
    "filtered_dataset_dc_filtered = filtered_dataset_dc[\n",
    "    (filtered_dataset_dc['bite_date'].dt.year >= 1985) &\n",
    "    (filtered_dataset_dc['bite_date'].dt.year <= 2017) &\n",
    "    (~filtered_dataset_dc['bite_date'].isnull())\n",
    "]\n",
    "\n"
   ]
  },
  {
   "cell_type": "code",
   "execution_count": 106,
   "id": "944ef33a-1466-48ca-b5d9-12bfbf80ad6a",
   "metadata": {},
   "outputs": [
    {
     "name": "stdout",
     "output_type": "stream",
     "text": [
      "      bite_date  Year  Month  Day\n",
      "0    1985-05-05  1985      5    5\n",
      "1    1986-02-12  1986      2   12\n",
      "2    1987-05-07  1987      5    7\n",
      "3    1988-10-02  1988     10    2\n",
      "4    1989-08-29  1989      8   29\n",
      "...         ...   ...    ...  ...\n",
      "8995 2017-09-04  2017      9    4\n",
      "8997 2017-09-06  2017      9    6\n",
      "8999 2017-09-07  2017      9    7\n",
      "9000 2017-09-07  2017      9    7\n",
      "9001 2017-09-07  2017      9    7\n",
      "\n",
      "[6216 rows x 4 columns]\n"
     ]
    }
   ],
   "source": [
    "# Convert 'bite_date' column to datetime data type\n",
    "filtered_dataset_dc_filtered['bite_date'] = pd.to_datetime(\n",
    "    filtered_dataset_dc_filtered['bite_date'], errors='coerce')\n",
    "\n",
    "# Extract year and month from 'bite_date' column\n",
    "filtered_dataset_dc_filtered['Year'] = filtered_dataset_dc_filtered['bite_date'].dt.year\n",
    "filtered_dataset_dc_filtered['Month'] = filtered_dataset_dc_filtered['bite_date'].dt.month\n",
    "filtered_dataset_dc_filtered['Day'] = filtered_dataset_dc_filtered['bite_date'].dt.day\n",
    "\n",
    "# Display the updated DataFrame with 'Year' and 'Month' columns\n",
    "print(filtered_dataset_dc_filtered[['bite_date', 'Year', 'Month', 'Day']])\n"
   ]
  },
  {
   "cell_type": "code",
   "execution_count": 62,
   "id": "bc382c38-1f9d-4ddb-8d49-eb1b6c7eaf20",
   "metadata": {},
   "outputs": [
    {
     "name": "stdout",
     "output_type": "stream",
     "text": [
      "<class 'pandas.core.frame.DataFrame'>\n",
      "Int64Index: 6216 entries, 0 to 9001\n",
      "Data columns (total 18 columns):\n",
      " #   Column             Non-Null Count  Dtype         \n",
      "---  ------             --------------  -----         \n",
      " 0   bite_date          6216 non-null   datetime64[ns]\n",
      " 1   SpeciesIDDesc      6216 non-null   object        \n",
      " 2   BreedIDDesc        2944 non-null   object        \n",
      " 3   GenderIDDesc       6216 non-null   object        \n",
      " 4   color              5467 non-null   object        \n",
      " 5   vaccination_yrs    3336 non-null   float64       \n",
      " 6   vaccination_date   3660 non-null   object        \n",
      " 7   victim_zip         5133 non-null   object        \n",
      " 8   AdvIssuedYNDesc    2039 non-null   object        \n",
      " 9   WhereBittenIDDesc  6216 non-null   object        \n",
      " 10  quarantine_date    1819 non-null   object        \n",
      " 11  DispositionIDDesc  1483 non-null   object        \n",
      " 12  head_sent_date     116 non-null    object        \n",
      " 13  release_date       1283 non-null   object        \n",
      " 14  ResultsIDDesc      1277 non-null   object        \n",
      " 15  Year               6216 non-null   int64         \n",
      " 16  Month              6216 non-null   int64         \n",
      " 17  Day                6216 non-null   int64         \n",
      "dtypes: datetime64[ns](1), float64(1), int64(3), object(13)\n",
      "memory usage: 922.7+ KB\n"
     ]
    }
   ],
   "source": [
    "filtered_dataset_dc_filtered.info()"
   ]
  },
  {
   "cell_type": "markdown",
   "id": "54d84064-578d-44f0-ae7b-886edac8c00e",
   "metadata": {},
   "source": [
    "#### Well we don't always recognize what zipcode we are in, nor can we \n",
    "#### spot if the animal is vaccinated\n",
    "#### Althouhg we do have some knowlege on what popular breed of an animal is,\n",
    "#### but we aren't always sure unless we are experts"
   ]
  },
  {
   "cell_type": "code",
   "execution_count": 229,
   "id": "4f9a8bbf-af6a-4db1-b0e0-c84b8ba6cf55",
   "metadata": {
    "tags": []
   },
   "outputs": [],
   "source": [
    "filtered_dataset_dc_filtered_encoded = filtered_dataset_dc_filtered[\n",
    "    [\n",
    "        'Year',\n",
    "        'Month',\n",
    "        'Day',\n",
    "        'SpeciesIDDesc',\n",
    "        'GenderIDDesc',\n",
    "        'BreedIDDesc',\n",
    "        'color'        \n",
    "    ]\n",
    "]"
   ]
  },
  {
   "cell_type": "code",
   "execution_count": 228,
   "id": "0a31231b-f508-4da6-807b-59fd5aa8912f",
   "metadata": {},
   "outputs": [
    {
     "name": "stdout",
     "output_type": "stream",
     "text": [
      "<class 'pandas.core.frame.DataFrame'>\n",
      "Int64Index: 6216 entries, 0 to 9001\n",
      "Data columns (total 7 columns):\n",
      " #   Column         Non-Null Count  Dtype \n",
      "---  ------         --------------  ----- \n",
      " 0   Year           6216 non-null   int64 \n",
      " 1   Month          6216 non-null   int64 \n",
      " 2   Day            6216 non-null   int64 \n",
      " 3   SpeciesIDDesc  6216 non-null   object\n",
      " 4   GenderIDDesc   6216 non-null   object\n",
      " 5   BreedIDDesc    2944 non-null   object\n",
      " 6   color          5467 non-null   object\n",
      "dtypes: int64(3), object(4)\n",
      "memory usage: 388.5+ KB\n"
     ]
    }
   ],
   "source": [
    "filtered_dataset_dc_filtered_encoded.info()"
   ]
  },
  {
   "cell_type": "code",
   "execution_count": 230,
   "id": "8ace336a-adcd-4b24-8e0b-c6c29e584eb6",
   "metadata": {},
   "outputs": [
    {
     "name": "stdout",
     "output_type": "stream",
     "text": [
      "                       Year     Month       Day  SpeciesIDDesc_CAT  \\\n",
      "Year               1.000000 -0.079743  0.000975          -0.020184   \n",
      "Month             -0.079743  1.000000  0.003237           0.009317   \n",
      "Day                0.000975  0.003237  1.000000           0.000085   \n",
      "SpeciesIDDesc_CAT -0.020184  0.009317  0.000085           1.000000   \n",
      "SpeciesIDDesc_DOG  0.020184 -0.009317 -0.000085          -1.000000   \n",
      "...                     ...       ...       ...                ...   \n",
      "color_YELLOW-TAN  -0.009023 -0.009598  0.019035          -0.005650   \n",
      "color_YELLOW-WHT  -0.020644  0.001898  0.009996           0.009920   \n",
      "color_YELLOW/BLK   0.008338  0.014463 -0.005126          -0.005650   \n",
      "color_YELLOW/BRN  -0.004683  0.006442 -0.015075          -0.005650   \n",
      "color_YELLOWISH   -0.013364 -0.009598 -0.012232          -0.005650   \n",
      "\n",
      "                   SpeciesIDDesc_DOG  GenderIDDesc_FEMALE  GenderIDDesc_MALE  \\\n",
      "Year                        0.020184             0.066732           0.116853   \n",
      "Month                      -0.009317            -0.016592           0.012394   \n",
      "Day                        -0.000085             0.016653          -0.016520   \n",
      "SpeciesIDDesc_CAT          -1.000000             0.066237          -0.100146   \n",
      "SpeciesIDDesc_DOG           1.000000            -0.066237           0.100146   \n",
      "...                              ...                  ...                ...   \n",
      "color_YELLOW-TAN            0.005650            -0.008525           0.010520   \n",
      "color_YELLOW-WHT           -0.009920             0.001054          -0.011590   \n",
      "color_YELLOW/BLK            0.005650            -0.008525           0.010520   \n",
      "color_YELLOW/BRN            0.005650            -0.008525           0.010520   \n",
      "color_YELLOWISH             0.005650            -0.008525           0.010520   \n",
      "\n",
      "                   GenderIDDesc_UNKNOWN  BreedIDDesc_AAUST. TERR.  \\\n",
      "Year                          -0.299271                  0.052635   \n",
      "Month                          0.005394                  0.013627   \n",
      "Day                            0.001381                  0.028861   \n",
      "SpeciesIDDesc_CAT              0.062841                 -0.048216   \n",
      "SpeciesIDDesc_DOG             -0.062841                  0.048216   \n",
      "...                                 ...                       ...   \n",
      "color_YELLOW-TAN              -0.004142                 -0.001373   \n",
      "color_YELLOW-WHT               0.017646                 -0.002379   \n",
      "color_YELLOW/BLK              -0.004142                 -0.001373   \n",
      "color_YELLOW/BRN              -0.004142                 -0.001373   \n",
      "color_YELLOWISH               -0.004142                 -0.001373   \n",
      "\n",
      "                   BreedIDDesc_AIREDALE TER.  ...  color_YELLO  color_YELLOW  \\\n",
      "Year                               -0.000485  ...     0.005058      0.012898   \n",
      "Month                               0.014783  ...     0.016204     -0.048617   \n",
      "Day                                 0.020892  ...     0.008244      0.014992   \n",
      "SpeciesIDDesc_CAT                  -0.007991  ...    -0.012637      0.010649   \n",
      "SpeciesIDDesc_DOG                   0.007991  ...     0.012637     -0.010649   \n",
      "...                                      ...  ...          ...           ...   \n",
      "color_YELLOW-TAN                   -0.000228  ...    -0.000360     -0.001344   \n",
      "color_YELLOW-WHT                   -0.000394  ...    -0.000623     -0.002328   \n",
      "color_YELLOW/BLK                   -0.000228  ...    -0.000360     -0.001344   \n",
      "color_YELLOW/BRN                   -0.000228  ...    -0.000360     -0.001344   \n",
      "color_YELLOWISH                    -0.000228  ...    -0.000360     -0.001344   \n",
      "\n",
      "                   color_YELLOW BLK  color_YELLOW WHI  color_YELLOW WHT  \\\n",
      "Year                       0.003997          0.004419          0.008338   \n",
      "Month                     -0.017619          0.015792          0.018473   \n",
      "Day                       -0.005126         -0.012163         -0.019338   \n",
      "SpeciesIDDesc_CAT         -0.005650          0.029628         -0.005650   \n",
      "SpeciesIDDesc_DOG          0.005650         -0.029628          0.005650   \n",
      "...                             ...               ...               ...   \n",
      "color_YELLOW-TAN          -0.000161         -0.000279         -0.000161   \n",
      "color_YELLOW-WHT          -0.000279         -0.000483         -0.000279   \n",
      "color_YELLOW/BLK          -0.000161         -0.000279         -0.000161   \n",
      "color_YELLOW/BRN          -0.000161         -0.000279         -0.000161   \n",
      "color_YELLOWISH           -0.000161         -0.000279         -0.000161   \n",
      "\n",
      "                   color_YELLOW-TAN  color_YELLOW-WHT  color_YELLOW/BLK  \\\n",
      "Year                      -0.009023         -0.020644          0.008338   \n",
      "Month                     -0.009598          0.001898          0.014463   \n",
      "Day                        0.019035          0.009996         -0.005126   \n",
      "SpeciesIDDesc_CAT         -0.005650          0.009920         -0.005650   \n",
      "SpeciesIDDesc_DOG          0.005650         -0.009920          0.005650   \n",
      "...                             ...               ...               ...   \n",
      "color_YELLOW-TAN           1.000000         -0.000279         -0.000161   \n",
      "color_YELLOW-WHT          -0.000279          1.000000         -0.000279   \n",
      "color_YELLOW/BLK          -0.000161         -0.000279          1.000000   \n",
      "color_YELLOW/BRN          -0.000161         -0.000279         -0.000161   \n",
      "color_YELLOWISH           -0.000161         -0.000279         -0.000161   \n",
      "\n",
      "                   color_YELLOW/BRN  color_YELLOWISH  \n",
      "Year                      -0.004683        -0.013364  \n",
      "Month                      0.006442        -0.009598  \n",
      "Day                       -0.015075        -0.012232  \n",
      "SpeciesIDDesc_CAT         -0.005650        -0.005650  \n",
      "SpeciesIDDesc_DOG          0.005650         0.005650  \n",
      "...                             ...              ...  \n",
      "color_YELLOW-TAN          -0.000161        -0.000161  \n",
      "color_YELLOW-WHT          -0.000279        -0.000279  \n",
      "color_YELLOW/BLK          -0.000161        -0.000161  \n",
      "color_YELLOW/BRN           1.000000        -0.000161  \n",
      "color_YELLOWISH           -0.000161         1.000000  \n",
      "\n",
      "[763 rows x 763 columns]\n"
     ]
    }
   ],
   "source": [
    "# Perform one-hot encoding for object columns\n",
    "encoded_df = pd.get_dummies(filtered_dataset_dc_filtered_encoded)\n",
    "\n",
    "# Calculate the correlation matrix\n",
    "correlation_matrix = encoded_df.corr()\n",
    "\n",
    "print(correlation_matrix)"
   ]
  },
  {
   "cell_type": "markdown",
   "id": "c7236a89-c28c-4534-81bd-515badfe9427",
   "metadata": {},
   "source": [
    "#### Non of these values really have correlation between each others,\n",
    "#### like we aren't very likely to be bitten on 13th day of a month by a black cat\n",
    "#### hence thery are more or less independent"
   ]
  },
  {
   "cell_type": "code",
   "execution_count": 74,
   "id": "c5d3fb28-a68d-46a9-8bec-fb7ba6e010d7",
   "metadata": {},
   "outputs": [
    {
     "data": {
      "image/png": "[encoded data removed]",
      "text/plain": [
       "<Figure size 720x432 with 2 Axes>"
      ]
     },
     "metadata": {
      "needs_background": "light"
     },
     "output_type": "display_data"
    }
   ],
   "source": [
    "# Group by 'SpeciesIDDesc' and 'Day', and count the number of bites\n",
    "bites_per_day = filtered_dataset_dc_filtered.groupby(['SpeciesIDDesc', 'Day'])['Day'].count()\n",
    "\n",
    "# Reset index to transform the resulting Series into a DataFrame\n",
    "bites_per_day = bites_per_day.reset_index(name='Count')\n",
    "\n",
    "# Pivot the DataFrame to have 'SpeciesIDDesc' as columns\n",
    "bites_per_day_pivot = bites_per_day.pivot(index='Day', columns='SpeciesIDDesc', values='Count')\n",
    "\n",
    "# Generate the bar plot with twin axes\n",
    "fig, ax1 = plt.subplots(figsize=(10, 6))\n",
    "ax2 = ax1.twinx()\n",
    "\n",
    "# Plot the dog bites on ax1\n",
    "bites_per_day_pivot['DOG'].plot(kind='bar', color='blue', ax=ax1, position=0, width=0.4)\n",
    "ax1.set_ylabel('Number of Dog Bites')\n",
    "\n",
    "# Plot the cat bites on ax2\n",
    "bites_per_day_pivot['CAT'].plot(kind='bar', color='red', ax=ax2, position=1, width=0.4)\n",
    "ax2.set_ylabel('Number of Cat Bites')\n",
    "\n",
    "# Set x-axis label\n",
    "ax1.set_xlabel('Day')\n",
    "\n",
    "# Set title\n",
    "plt.title('Number of Bites per Day (Dog vs. Cat)')\n",
    "\n",
    "# Adjust spacing between subplots\n",
    "fig.tight_layout()\n",
    "\n",
    "# Show the plot\n",
    "plt.show()\n"
   ]
  },
  {
   "cell_type": "markdown",
   "id": "d1233f7d-bce4-41bd-8cd2-8cd8a8fbd481",
   "metadata": {},
   "source": [
    "#### Seems like no difference by day? 31st is the last day, it's understandably low\n",
    "#### Let's see if there's difference between each month"
   ]
  },
  {
   "cell_type": "code",
   "execution_count": 102,
   "id": "50545a4d-6dd9-407c-8eec-f4f6d9a5acbe",
   "metadata": {},
   "outputs": [
    {
     "data": {
      "image/png": "[encoded data removed]",
      "text/plain": [
       "<Figure size 720x432 with 2 Axes>"
      ]
     },
     "metadata": {
      "needs_background": "light"
     },
     "output_type": "display_data"
    }
   ],
   "source": [
    "# Group by 'SpeciesIDDesc' and 'Day', and count the number of bites\n",
    "bites_per_day = filtered_dataset_dc_filtered.groupby(['SpeciesIDDesc', 'Month'])['Month'].count()\n",
    "\n",
    "# Reset index to transform the resulting Series into a DataFrame\n",
    "bites_per_day = bites_per_day.reset_index(name='Count')\n",
    "\n",
    "# Pivot the DataFrame to have 'SpeciesIDDesc' as columns\n",
    "bites_per_day_pivot = bites_per_day.pivot(index='Month', columns='SpeciesIDDesc', values='Count')\n",
    "\n",
    "# Generate the bar plot with twin axes\n",
    "fig, ax1 = plt.subplots(figsize=(10, 6))\n",
    "ax2 = ax1.twinx()\n",
    "\n",
    "# Plot the dog bites on ax1\n",
    "bites_per_day_pivot['DOG'].plot(kind='bar', color='blue', ax=ax1, position=0, width=0.4)\n",
    "ax1.set_ylabel('Number of Dog Bites')\n",
    "\n",
    "# Plot the cat bites on ax2\n",
    "bites_per_day_pivot['CAT'].plot(kind='bar', color='red', ax=ax2, position=1, width=0.4)\n",
    "ax2.set_ylabel('Number of Cat Bites')\n",
    "\n",
    "# Set x-axis label\n",
    "ax1.set_xlabel('Month')\n",
    "\n",
    "# Set title\n",
    "plt.title('Number of Bites per Day (Dog vs. Cat)')\n",
    "\n",
    "# Adjust spacing between subplots\n",
    "fig.tight_layout()\n",
    "\n",
    "# Show the plot\n",
    "plt.show()\n"
   ]
  },
  {
   "cell_type": "markdown",
   "id": "a927230d-6318-405c-98fb-6930bbe732af",
   "metadata": {},
   "source": [
    "#### Interesting, seems like summer happened to be most bites happening for dog and cat. \n",
    "#### This kind of counterintuive as we assumes animals are most aggresive in springs when\n",
    "#### animal estrus\n"
   ]
  },
  {
   "cell_type": "code",
   "execution_count": 153,
   "id": "3340a886-0ee1-4fee-a8d8-9f064dba2cd1",
   "metadata": {},
   "outputs": [
    {
     "data": {
      "image/png": "[encoded data removed]",
      "text/plain": [
       "<Figure size 720x432 with 2 Axes>"
      ]
     },
     "metadata": {
      "needs_background": "light"
     },
     "output_type": "display_data"
    }
   ],
   "source": [
    "# Group by 'SpeciesIDDesc', 'GenderIDDesc', 'Month', and count the number of bites\n",
    "bites_per_month_gender = filtered_dataset_dc_filtered.groupby(['SpeciesIDDesc', 'GenderIDDesc', 'Month'])['Month'].count()\n",
    "\n",
    "# Reset index to transform the resulting Series into a DataFrame\n",
    "bites_per_month_gender = bites_per_month_gender.reset_index(name='Count')\n",
    "\n",
    "# Pivot the DataFrame to have 'SpeciesIDDesc' and 'GenderIDDesc' as columns\n",
    "bites_per_month_gender_pivot = bites_per_month_gender.pivot(index='Month', columns=['SpeciesIDDesc', 'GenderIDDesc'], values='Count')\n",
    "\n",
    "# Generate the bar plot with larger legend area\n",
    "fig, ax1 = plt.subplots(figsize=(10, 6))\n",
    "ax2 = ax1.twinx()\n",
    "\n",
    "# Plot the dog bites by gender on ax1\n",
    "bites_per_month_gender_pivot['DOG'].plot(kind='bar', color=['pink', 'red', 'lightcoral'], ax=ax1, position=0, width=0.4)\n",
    "ax1.set_ylabel('Number of Dog Bites')\n",
    "\n",
    "# Plot the cat bites by gender on ax2\n",
    "bites_per_month_gender_pivot['CAT'].plot(kind='bar', color=['lightgreen', 'blue', 'lightblue'], ax=ax2, position=1, width=0.4)\n",
    "ax2.set_ylabel('Number of Cat Bites')\n",
    "\n",
    "# Set x-axis label\n",
    "ax1.set_xlabel('Month')\n",
    "\n",
    "# Set title\n",
    "plt.title('Number of Bites per Month (Dog vs. Cat) Grouped by Gender')\n",
    "\n",
    "# Set larger legend area\n",
    "ax1.legend(title='Dog', bbox_to_anchor=(1.2, 1))\n",
    "ax2.legend(title='Cat', bbox_to_anchor=(1, 1))\n",
    "\n",
    "# Adjust spacing between subplots\n",
    "fig.tight_layout()\n",
    "\n",
    "# Show the plot\n",
    "plt.show()\n"
   ]
  },
  {
   "cell_type": "markdown",
   "id": "c2a2cbcf-91cd-4a31-a981-f091564071dd",
   "metadata": {},
   "source": [
    "#### By looking into the gender difference, male shows more aggressive than female in general\n",
    "#### though female cats on June had more reported case than male. Let's see if this trend holds\n",
    "#### throughout the years"
   ]
  },
  {
   "cell_type": "code",
   "execution_count": 134,
   "id": "a7a990bc-35bf-4606-81c7-3b3a6f6574e1",
   "metadata": {},
   "outputs": [],
   "source": [
    "# Group by 'SpeciesIDDesc', 'GenderIDDesc', 'Month', and count the number of bites\n",
    "bites_per_month_year_gender = filtered_dataset_dc_filtered.groupby(['SpeciesIDDesc', 'GenderIDDesc', 'Month', 'Year'])['Year'].count()\n",
    "# Reset index to transform the resulting Series into a DataFrame\n",
    "bites_per_month_year_gender = bites_per_month_year_gender.reset_index(name='Count')\n",
    "\n",
    "# Filter the DataFrame for FEMALE CAT\n",
    "male_cat_my = bites_per_month_year_gender[(bites_per_month_year_gender[\n",
    "    'SpeciesIDDesc'] == 'CAT') & (bites_per_month_year_gender[\n",
    "    'GenderIDDesc'] == 'MALE')]\n",
    "female_cat_my = bites_per_month_year_gender[(bites_per_month_year_gender[\n",
    "    'SpeciesIDDesc'] == 'CAT') & (bites_per_month_year_gender[\n",
    "    'GenderIDDesc'] == 'FEMALE')]\n",
    "male_dog_my = bites_per_month_year_gender[(bites_per_month_year_gender[\n",
    "    'SpeciesIDDesc'] == 'DOG') & (bites_per_month_year_gender[\n",
    "    'GenderIDDesc'] == 'MALE')]\n",
    "female_dog_my = bites_per_month_year_gender[(bites_per_month_year_gender[\n",
    "    'SpeciesIDDesc'] == 'DOG') & (bites_per_month_year_gender[\n",
    "    'GenderIDDesc'] == 'FEMALE')]\n",
    "\n",
    "# Group by 'SpeciesIDDesc', 'GenderIDDesc', 'Month', and count the number of bites\n",
    "bites_per_year_gender = filtered_dataset_dc_filtered.groupby(['SpeciesIDDesc', 'GenderIDDesc', 'Year'])['Year'].count()\n",
    "# Reset index to transform the resulting Series into a DataFrame\n",
    "bites_per_year_gender = bites_per_year_gender.reset_index(name='Count')\n",
    "\n",
    "# Filter the DataFrame for FEMALE CAT\n",
    "male_cat_y = bites_per_year_gender[(bites_per_year_gender[\n",
    "    'SpeciesIDDesc'] == 'CAT') & (bites_per_year_gender[\n",
    "    'GenderIDDesc'] == 'MALE')]\n",
    "female_cat_y = bites_per_year_gender[(bites_per_year_gender[\n",
    "    'SpeciesIDDesc'] == 'CAT') & (bites_per_year_gender[\n",
    "    'GenderIDDesc'] == 'FEMALE')]\n",
    "male_dog_y = bites_per_year_gender[(bites_per_year_gender[\n",
    "    'SpeciesIDDesc'] == 'DOG') & (bites_per_year_gender[\n",
    "    'GenderIDDesc'] == 'MALE')]\n",
    "female_dog_y = bites_per_year_gender[(bites_per_year_gender[\n",
    "    'SpeciesIDDesc'] == 'DOG') & (bites_per_year_gender[\n",
    "    'GenderIDDesc'] == 'FEMALE')]"
   ]
  },
  {
   "cell_type": "code",
   "execution_count": 136,
   "id": "8b217357-2a12-4352-b2ad-9a8fa102399b",
   "metadata": {},
   "outputs": [],
   "source": [
    "def month_n(df, month):\n",
    "    month_n = df[df['Month'] == month]\n",
    "    return month_n    "
   ]
  },
  {
   "cell_type": "markdown",
   "id": "7c18a931-7b26-47d1-a01f-4ef5972013db",
   "metadata": {},
   "source": [
    "#### Let's see June's trend for dogs"
   ]
  },
  {
   "cell_type": "code",
   "execution_count": 155,
   "id": "781fde91-6bd7-41a9-a9cb-470a31f134f8",
   "metadata": {},
   "outputs": [
    {
     "data": {
      "image/png": "[encoded data removed]",
      "text/plain": [
       "<Figure size 720x432 with 1 Axes>"
      ]
     },
     "metadata": {
      "needs_background": "light"
     },
     "output_type": "display_data"
    }
   ],
   "source": [
    "# Filter the DataFrame for FEMALE CAT\n",
    "female = month_n(female_cat_my, 6)\n",
    "male = month_n(male_cat_my, 6)\n",
    "\n",
    "# Create a new figure and axis\n",
    "fig, ax = plt.subplots(figsize=(10, 6))\n",
    "\n",
    "# Plot the line plots\n",
    "ax.plot(male['Year'], male['Count'], label='Male')\n",
    "ax.plot(female['Year'], female['Count'], label='Female')\n",
    "\n",
    "# Set the x-axis label\n",
    "ax.set_xlabel('Year')\n",
    "\n",
    "# Set the y-axis label\n",
    "ax.set_ylabel('Bites Count')\n",
    "\n",
    "# Show the legend\n",
    "ax.legend()\n",
    "\n",
    "# Show the plot\n",
    "plt.show()\n"
   ]
  },
  {
   "cell_type": "markdown",
   "id": "abe00def-2459-48c0-ae3a-f5f2e219ee24",
   "metadata": {},
   "source": [
    "#### Seems like the ghigher number of counts is a result from reports in 2010.\n",
    "#### Consider the small number of reports, it is less conclusive which gender of cat\n",
    "#### is more likely to bite in June. Let's see the year trend of bites for Dog and Cat"
   ]
  },
  {
   "cell_type": "markdown",
   "id": "d3b732de-4cf6-4370-a653-d22cd751bd27",
   "metadata": {},
   "source": [
    "#### Let's see cats first"
   ]
  },
  {
   "cell_type": "code",
   "execution_count": 156,
   "id": "63c0512a-e284-4c98-bb58-2ab8e810a2fb",
   "metadata": {},
   "outputs": [
    {
     "data": {
      "image/png": "[encoded data removed]",
      "text/plain": [
       "<Figure size 720x432 with 1 Axes>"
      ]
     },
     "metadata": {
      "needs_background": "light"
     },
     "output_type": "display_data"
    }
   ],
   "source": [
    "# Filter the DataFrame for \n",
    "female = female_cat_y\n",
    "male = male_cat_y\n",
    "# Create a new figure and axis\n",
    "fig, ax = plt.subplots(figsize=(10, 6))\n",
    "\n",
    "# Plot the line plots\n",
    "ax.plot(male['Year'], male['Count'], label='Male')\n",
    "ax.plot(female['Year'], female['Count'], label='Female')\n",
    "\n",
    "# Set the x-axis label\n",
    "ax.set_xlabel('Year')\n",
    "\n",
    "# Set the y-axis label\n",
    "ax.set_ylabel('Bites Count')\n",
    "\n",
    "# Show the legend\n",
    "ax.legend()\n",
    "\n",
    "# Show the plot\n",
    "plt.show()"
   ]
  },
  {
   "cell_type": "markdown",
   "id": "afdb2407-75a7-4eea-bdff-75dc464f2b51",
   "metadata": {},
   "source": [
    "#### Seems like the number does not have a clear trend, and \n",
    "#### We see a dramatic increase in case number around 2019\n",
    "#### This seems like new method to report or something, let's see dogs"
   ]
  },
  {
   "cell_type": "code",
   "execution_count": 157,
   "id": "d24ef41f-bfd5-445a-b26a-e760cdb34edc",
   "metadata": {},
   "outputs": [
    {
     "data": {
      "image/png": "[encoded data removed]",
      "text/plain": [
       "<Figure size 720x432 with 1 Axes>"
      ]
     },
     "metadata": {
      "needs_background": "light"
     },
     "output_type": "display_data"
    }
   ],
   "source": [
    "# Filter the DataFrame for \n",
    "female = female_dog_y\n",
    "male = male_dog_y\n",
    "# Create a new figure and axis\n",
    "fig, ax = plt.subplots(figsize=(10, 6))\n",
    "\n",
    "# Plot the line plots\n",
    "ax.plot(male['Year'], male['Count'], label='Male')\n",
    "ax.plot(female['Year'], female['Count'], label='Female')\n",
    "\n",
    "# Set the x-axis label\n",
    "ax.set_xlabel('Year')\n",
    "\n",
    "# Set the y-axis label\n",
    "ax.set_ylabel('Bites Count')\n",
    "\n",
    "# Show the legend\n",
    "ax.legend()\n",
    "\n",
    "# Show the plot\n",
    "plt.show()"
   ]
  },
  {
   "cell_type": "markdown",
   "id": "47fef784-619c-4c2e-a8fd-e69eceaca180",
   "metadata": {},
   "source": [
    "#### Interestingly the number also rocketed on 2010, let's split the grapth before and after the year\n",
    "#### since this number is unlikely due to suddently a dramatic increase in animal owned by residents\n",
    "#### as it's around financial crisis. https://www.nytimes.com/2008/10/18/nyregion/18pets.html#:~:text=Animal%20Care%20and%20Control%20took,the%20same%20months%20in%202007."
   ]
  },
  {
   "cell_type": "code",
   "execution_count": 166,
   "id": "d0fbb474-aa89-4821-9c85-9d573157cc4d",
   "metadata": {},
   "outputs": [
    {
     "data": {
      "image/png": "[encoded data removed]",
      "text/plain": [
       "<Figure size 720x432 with 1 Axes>"
      ]
     },
     "metadata": {
      "needs_background": "light"
     },
     "output_type": "display_data"
    }
   ],
   "source": [
    "# Filter the DataFrame for \n",
    "female = female_dog_y\n",
    "male = male_dog_y\n",
    "# Create a new figure and axis\n",
    "fig, ax = plt.subplots(figsize=(10, 6))\n",
    "\n",
    "# Plot the line plots\n",
    "ax.plot(male['Year'], male['Count'], label='Male')\n",
    "ax.plot(female['Year'], female['Count'], label='Female')\n",
    "\n",
    "# Set the x-axis label\n",
    "ax.set_xlabel('Year')\n",
    "ax.set_xlim(1985, 2009)\n",
    "ax.set_ylim(0, 10)\n",
    "# Set the y-axis label\n",
    "ax.set_ylabel('Bites Count')\n",
    "\n",
    "# Show the legend\n",
    "ax.legend()\n",
    "\n",
    "# Show the plot\n",
    "plt.show()"
   ]
  },
  {
   "cell_type": "code",
   "execution_count": 167,
   "id": "830a9f2f-ede5-456c-a14a-7072a97ce6da",
   "metadata": {},
   "outputs": [
    {
     "data": {
      "image/png": "[encoded data removed]",
      "text/plain": [
       "<Figure size 720x432 with 1 Axes>"
      ]
     },
     "metadata": {
      "needs_background": "light"
     },
     "output_type": "display_data"
    }
   ],
   "source": [
    "# Filter the DataFrame for \n",
    "female = female_dog_y\n",
    "male = male_dog_y\n",
    "# Create a new figure and axis\n",
    "fig, ax = plt.subplots(figsize=(10, 6))\n",
    "\n",
    "# Plot the line plots\n",
    "ax.plot(male['Year'], male['Count'], label='Male')\n",
    "ax.plot(female['Year'], female['Count'], label='Female')\n",
    "\n",
    "# Set the x-axis label\n",
    "ax.set_xlabel('Year')\n",
    "ax.set_xlim(2010, 2017)\n",
    "ax.set_ylim(0, 500)\n",
    "# Set the y-axis label\n",
    "ax.set_ylabel('Bites Count')\n",
    "\n",
    "# Show the legend\n",
    "ax.legend()\n",
    "\n",
    "# Show the plot\n",
    "plt.show()"
   ]
  },
  {
   "cell_type": "markdown",
   "id": "73b3130e-3a18-46c9-8574-890b34b0a9b8",
   "metadata": {},
   "source": [
    "#### Besides this dramatic increase, not much trend can be observed from animal bites\n",
    "#### as year passed by. Now let's see where do they like to bite"
   ]
  },
  {
   "cell_type": "code",
   "execution_count": 171,
   "id": "6c52a0df-e207-42cf-a234-aa137a66f87f",
   "metadata": {},
   "outputs": [],
   "source": [
    "# Group by 'SpeciesIDDesc', 'GenderIDDesc', 'Month', and count the number of bites\n",
    "bites_per_month_year_gender_bd = filtered_dataset_dc_filtered.groupby(['SpeciesIDDesc', 'GenderIDDesc', 'Month', 'Year', 'WhereBittenIDDesc'])['Year'].count()\n",
    "# Reset index to transform the resulting Series into a DataFrame\n",
    "bites_per_month_year_gender_bd = bites_per_month_year_gender_bd.reset_index(name='Count')\n",
    "\n",
    "# Filter the DataFrame for FEMALE CAT\n",
    "male_cat_my_bd = bites_per_month_year_gender_bd[(bites_per_month_year_gender_bd[\n",
    "    'SpeciesIDDesc'] == 'CAT') & (bites_per_month_year_gender_bd[\n",
    "    'GenderIDDesc'] == 'MALE')]\n",
    "female_cat_my_bd = bites_per_month_year_gender_bd[(bites_per_month_year_gender_bd[\n",
    "    'SpeciesIDDesc'] == 'CAT') & (bites_per_month_year_gender_bd[\n",
    "    'GenderIDDesc'] == 'FEMALE')]\n",
    "male_dog_my_bd = bites_per_month_year_gender_bd[(bites_per_month_year_gender_bd[\n",
    "    'SpeciesIDDesc'] == 'DOG') & (bites_per_month_year_gender_bd[\n",
    "    'GenderIDDesc'] == 'MALE')]\n",
    "female_dog_my_bd = bites_per_month_year_gender_bd[(bites_per_month_year_gender_bd[\n",
    "    'SpeciesIDDesc'] == 'DOG') & (bites_per_month_year_gender_bd[\n",
    "    'GenderIDDesc'] == 'FEMALE')]\n",
    "\n",
    "# Group by 'SpeciesIDDesc', 'GenderIDDesc', 'Month', and count the number of bites\n",
    "bites_per_year_gender_bd = filtered_dataset_dc_filtered.groupby(['SpeciesIDDesc', 'GenderIDDesc', 'WhereBittenIDDesc', 'Year'])['Year'].count()\n",
    "# Reset index to transform the resulting Series into a DataFrame\n",
    "bites_per_year_gender_bd = bites_per_year_gender_bd.reset_index(name='Count')\n",
    "\n",
    "# Filter the DataFrame for FEMALE CAT\n",
    "male_cat_y_bd = bites_per_year_gender_bd[(bites_per_year_gender_bd[\n",
    "    'SpeciesIDDesc'] == 'CAT') & (bites_per_year_gender_bd[\n",
    "    'GenderIDDesc'] == 'MALE')]\n",
    "female_cat_y_bd = bites_per_year_gender_bd[(bites_per_year_gender_bd[\n",
    "    'SpeciesIDDesc'] == 'CAT') & (bites_per_year_gender_bd[\n",
    "    'GenderIDDesc'] == 'FEMALE')]\n",
    "male_dog_y_bd = bites_per_year_gender_bd[(bites_per_year_gender_bd[\n",
    "    'SpeciesIDDesc'] == 'DOG') & (bites_per_year_gender_bd[\n",
    "    'GenderIDDesc'] == 'MALE')]\n",
    "female_dog_y_bd = bites_per_year_gender_bd[(bites_per_year_gender_bd[\n",
    "    'SpeciesIDDesc'] == 'DOG') & (bites_per_year_gender_bd[\n",
    "    'GenderIDDesc'] == 'FEMALE')]"
   ]
  },
  {
   "cell_type": "markdown",
   "id": "e6cb2f09-073a-4fd2-bb78-d67614db6a87",
   "metadata": {},
   "source": [
    "#### Let's see what options are in WhereBittenIDDesc"
   ]
  },
  {
   "cell_type": "code",
   "execution_count": 170,
   "id": "655b0f9d-d1d2-43aa-b1ce-31cfa370b5dd",
   "metadata": {},
   "outputs": [
    {
     "name": "stdout",
     "output_type": "stream",
     "text": [
      "['BODY' 'HEAD' 'UNKNOWN']\n"
     ]
    }
   ],
   "source": [
    "unique_values = female_dog_y_bd['WhereBittenIDDesc'].unique()\n",
    "print(unique_values)"
   ]
  },
  {
   "cell_type": "code",
   "execution_count": 225,
   "id": "d68e22d3-f5b4-4c35-82ee-441dbe3b5f10",
   "metadata": {},
   "outputs": [],
   "source": [
    "male_cat_my_bd_bite = bites_per_month_year_gender_bd[(bites_per_month_year_gender_bd[\n",
    "    'SpeciesIDDesc'] == 'CAT') & (bites_per_month_year_gender_bd[\n",
    "    'GenderIDDesc'] == 'MALE')]\n",
    "female_cat_my_bd_bite = bites_per_month_year_gender_bd[(bites_per_month_year_gender_bd[\n",
    "    'SpeciesIDDesc'] == 'CAT') & (bites_per_month_year_gender_bd[\n",
    "    'GenderIDDesc'] == 'FEMALE')]\n",
    "male_dog_my_bd_bite = bites_per_month_year_gender_bd[(bites_per_month_year_gender_bd[\n",
    "    'SpeciesIDDesc'] == 'DOG') & (bites_per_month_year_gender_bd[\n",
    "    'GenderIDDesc'] == 'MALE')]\n",
    "female_dog_my_bd_bite = bites_per_month_year_gender_bd[(bites_per_month_year_gender_bd[\n",
    "    'SpeciesIDDesc'] == 'DOG') & (bites_per_month_year_gender_bd[\n",
    "    'GenderIDDesc'] == 'FEMALE')]\n",
    "\n",
    "male_cat_y_bd_bite = bites_per_year_gender_bd[(bites_per_year_gender_bd[\n",
    "    'SpeciesIDDesc'] == 'CAT') & (bites_per_year_gender_bd[\n",
    "    'GenderIDDesc'] == 'MALE')]\n",
    "female_cat_y_bd_bite = bites_per_year_gender_bd[(bites_per_year_gender_bd[\n",
    "    'SpeciesIDDesc'] == 'CAT') & (bites_per_year_gender_bd[\n",
    "    'GenderIDDesc'] == 'FEMALE')]\n",
    "male_dog_y_bd_bite = bites_per_year_gender_bd[(bites_per_year_gender_bd[\n",
    "    'SpeciesIDDesc'] == 'DOG') & (bites_per_year_gender_bd[\n",
    "    'GenderIDDesc'] == 'MALE')]\n",
    "female_dog_y_bd_bite = bites_per_year_gender_bd[(bites_per_year_gender_bd[\n",
    "    'SpeciesIDDesc'] == 'DOG') & (bites_per_year_gender_bd[\n",
    "    'GenderIDDesc'] == 'FEMALE')]\n",
    "\n",
    "male_cat_my_bd_Head = bites_per_month_year_gender_bd[(bites_per_month_year_gender_bd[\n",
    "    'SpeciesIDDesc'] == 'CAT') & (bites_per_month_year_gender_bd[\n",
    "    'GenderIDDesc'] == 'MALE') & (bites_per_month_year_gender_bd[\n",
    "    'WhereBittenIDDesc'] == 'HEAD')]\n",
    "female_cat_my_bd_Head = bites_per_month_year_gender_bd[(bites_per_month_year_gender_bd[\n",
    "    'SpeciesIDDesc'] == 'CAT') & (bites_per_month_year_gender_bd[\n",
    "    'GenderIDDesc'] == 'FEMALE') & (bites_per_month_year_gender_bd[\n",
    "    'WhereBittenIDDesc'] == 'HEAD')]\n",
    "male_dog_my_bd_Head = bites_per_month_year_gender_bd[(bites_per_month_year_gender_bd[\n",
    "    'SpeciesIDDesc'] == 'DOG') & (bites_per_month_year_gender_bd[\n",
    "    'GenderIDDesc'] == 'MALE') & (bites_per_month_year_gender_bd[\n",
    "    'WhereBittenIDDesc'] == 'HEAD')]\n",
    "female_dog_my_bd_Head = bites_per_month_year_gender_bd[(bites_per_month_year_gender_bd[\n",
    "    'SpeciesIDDesc'] == 'DOG') & (bites_per_month_year_gender_bd[\n",
    "    'GenderIDDesc'] == 'FEMALE') & (bites_per_month_year_gender_bd[\n",
    "    'WhereBittenIDDesc'] == 'HEAD')]\n",
    "\n",
    "male_cat_y_bd_Head = bites_per_year_gender_bd[(bites_per_year_gender_bd[\n",
    "    'SpeciesIDDesc'] == 'CAT') & (bites_per_year_gender_bd[\n",
    "    'GenderIDDesc'] == 'MALE') & (bites_per_year_gender_bd[\n",
    "    'WhereBittenIDDesc'] == 'HEAD')]\n",
    "female_cat_y_bd_Head = bites_per_year_gender_bd[(bites_per_year_gender_bd[\n",
    "    'SpeciesIDDesc'] == 'CAT') & (bites_per_year_gender_bd[\n",
    "    'GenderIDDesc'] == 'FEMALE') & (bites_per_year_gender_bd[\n",
    "    'WhereBittenIDDesc'] == 'HEAD')]\n",
    "male_dog_y_bd_Head = bites_per_year_gender_bd[(bites_per_year_gender_bd[\n",
    "    'SpeciesIDDesc'] == 'DOG') & (bites_per_year_gender_bd[\n",
    "    'GenderIDDesc'] == 'MALE') & (bites_per_year_gender_bd[\n",
    "    'WhereBittenIDDesc'] == 'HEAD')]\n",
    "female_dog_y_bd_Head = bites_per_year_gender_bd[(bites_per_year_gender_bd[\n",
    "    'SpeciesIDDesc'] == 'DOG') & (bites_per_year_gender_bd[\n",
    "    'GenderIDDesc'] == 'FEMALE') & (bites_per_year_gender_bd[\n",
    "    'WhereBittenIDDesc'] == 'HEAD')]"
   ]
  },
  {
   "cell_type": "markdown",
   "id": "44b9e73a-09f7-4307-817f-440b12863a96",
   "metadata": {},
   "source": [
    "#### Bite on the head...?"
   ]
  },
  {
   "cell_type": "code",
   "execution_count": 222,
   "id": "31084afb-885e-4ba2-83ee-1de0c2e8e004",
   "metadata": {},
   "outputs": [
    {
     "data": {
      "image/png": "[encoded data removed]",
      "text/plain": [
       "<Figure size 720x432 with 1 Axes>"
      ]
     },
     "metadata": {
      "needs_background": "light"
     },
     "output_type": "display_data"
    },
    {
     "name": "stdout",
     "output_type": "stream",
     "text": [
      "Male Dog Head Bite average percent: 0.3382123708672429\n",
      "Male Dog Head Bite std percent:0.2968072957976407\n",
      "Female Dog Head Bite average percent: 0.3374514893906366\n",
      "Female Dog Head Bite std percent: 0.33216551837535907\n"
     ]
    }
   ],
   "source": [
    "# Filter the DataFrame for \n",
    "female = female_dog_y_bd_Head.groupby('Year', as_index=False).sum()\n",
    "male = male_dog_y_bd_Head.groupby('Year', as_index=False).sum()\n",
    "\n",
    "total_num_male = male_dog_y_bd_bite[['Year', 'Count']].groupby('Year', as_index=False).sum()\n",
    "total_num_female = female_dog_y_bd_bite[['Year', 'Count']].groupby('Year', as_index=False).sum()\n",
    "\n",
    "merged_df_m = male.merge(total_num_male, on='Year', how='inner')\n",
    "merged_df_fm = female.merge(total_num_female, on='Year', how='inner')\n",
    "\n",
    "# Create a new figure and axis\n",
    "fig, ax = plt.subplots(figsize=(10, 6))\n",
    "\n",
    "# Plot the line plots\n",
    "ax.scatter(merged_df_m['Year'], merged_df_m['Count_x']/merged_df_m['Count_y'], label='Male')\n",
    "ax.scatter(merged_df_fm['Year'], merged_df_fm['Count_x']/merged_df_fm['Count_y'], label='Female')\n",
    "\n",
    "# Set the x-axis label\n",
    "ax.set_xlabel('Year')\n",
    "ax.set_xlim(2009, 2017)\n",
    "ax.set_ylim(0, 1)\n",
    "# Set the y-axis label\n",
    "ax.set_ylabel('Bites Location Percent')\n",
    "\n",
    "# Show the legend\n",
    "ax.legend()\n",
    "\n",
    "# Show the plot\n",
    "plt.show()\n",
    "\n",
    "print(\"Male Dog Head Bite average percent: {}\".format(np.mean(merged_df_m['Count_x']/merged_df_m['Count_y'])))\n",
    "print(\"Male Dog Head Bite std percent:{}\".format(np.std(merged_df_m['Count_x']/merged_df_m['Count_y'])))\n",
    "print(\"Female Dog Head Bite average percent: {}\".format(np.mean(merged_df_fm['Count_x']/merged_df_fm['Count_y'])))\n",
    "print(\"Female Dog Head Bite std percent: {}\".format(np.std(merged_df_fm['Count_x']/merged_df_fm['Count_y'])))"
   ]
  },
  {
   "cell_type": "markdown",
   "id": "d8ba85fb-ee8b-494a-af73-b953c20c216f",
   "metadata": {},
   "source": [
    "#### Very few, it is awful get bitten and especially on the head, \n",
    "#### it might be valuable to learn how to avoid being bitten by dog\n",
    "#### on the head. Overall, female and male dogs do not show difference\n",
    "#### on location bitten. Let's see cats."
   ]
  },
  {
   "cell_type": "code",
   "execution_count": 224,
   "id": "0dc893fd-07ee-4418-a8bc-2ac8c9130558",
   "metadata": {},
   "outputs": [
    {
     "data": {
      "image/png": "[encoded data removed]",
      "text/plain": [
       "<Figure size 720x432 with 1 Axes>"
      ]
     },
     "metadata": {
      "needs_background": "light"
     },
     "output_type": "display_data"
    },
    {
     "name": "stdout",
     "output_type": "stream",
     "text": [
      "Male Cat Head Bite average percent: 0.04528807083464816\n",
      "Male Cat Head Bite std percent:0.013673517361948828\n",
      "Female Cat Head Bite average percent: 0.04045083581400529\n",
      "Female Cat Head Bite std percent: 0.009997437822980156\n"
     ]
    }
   ],
   "source": [
    "# Filter the DataFrame for \n",
    "female = female_cat_y_bd_Head.groupby('Year', as_index=False).sum()\n",
    "male = male_cat_y_bd_Head.groupby('Year', as_index=False).sum()\n",
    "\n",
    "total_num_male = male_cat_y_bd_bite[['Year', 'Count']].groupby('Year', as_index=False).sum()\n",
    "total_num_female = female_cat_y_bd_bite[['Year', 'Count']].groupby('Year', as_index=False).sum()\n",
    "\n",
    "merged_df_m = male.merge(total_num_male, on='Year', how='inner')\n",
    "merged_df_fm = female.merge(total_num_female, on='Year', how='inner')\n",
    "\n",
    "# Create a new figure and axis\n",
    "fig, ax = plt.subplots(figsize=(10, 6))\n",
    "\n",
    "# Plot the line plots\n",
    "ax.scatter(merged_df_m['Year'], merged_df_m['Count_x']/merged_df_m['Count_y'], label='Male')\n",
    "ax.scatter(merged_df_fm['Year'], merged_df_fm['Count_x']/merged_df_fm['Count_y'], label='Female')\n",
    "\n",
    "# Set the x-axis label\n",
    "ax.set_xlabel('Year')\n",
    "ax.set_xlim(2009, 2017)\n",
    "ax.set_ylim(0, 1)\n",
    "# Set the y-axis label\n",
    "ax.set_ylabel('Bites Location Percent')\n",
    "\n",
    "# Show the legend\n",
    "ax.legend()\n",
    "\n",
    "# Show the plot\n",
    "plt.show()\n",
    "\n",
    "print(\"Male Cat Head Bite average percent: {}\".format(np.mean(merged_df_m['Count_x']/merged_df_m['Count_y'])))\n",
    "print(\"Male Cat Head Bite std percent:{}\".format(np.std(merged_df_m['Count_x']/merged_df_m['Count_y'])))\n",
    "print(\"Female Cat Head Bite average percent: {}\".format(np.mean(merged_df_fm['Count_x']/merged_df_fm['Count_y'])))\n",
    "print(\"Female Cat Head Bite std percent: {}\".format(np.std(merged_df_fm['Count_x']/merged_df_fm['Count_y'])))"
   ]
  },
  {
   "cell_type": "markdown",
   "id": "27da5406-4282-48f1-92f2-5ff496bed57c",
   "metadata": {},
   "source": [
    "#### Same for cats, no significant difference between male and female\n",
    "#### on location bitten"
   ]
  },
  {
   "cell_type": "markdown",
   "id": "fafed11b-1bc9-4938-9c8d-152a874629e0",
   "metadata": {
    "tags": []
   },
   "source": [
    "### Through investigating the dataset, hypothesis on pet bite are:\n",
    "#### 1. Female house pet (dog and cat) are less likely to bite.\n",
    "#### 2. Animals appears to bite in warmer days, as contrast to the common believe that animals are more aggressive in estrus\n",
    "#### 3. Body are most likely to be bitten."
   ]
  },
  {
   "cell_type": "code",
   "execution_count": null,
   "id": "87675748-665d-4af0-a737-7e1c3ec6e51b",
   "metadata": {},
   "outputs": [],
   "source": []
  },
  {
   "cell_type": "code",
   "execution_count": null,
   "id": "97640610-bbb3-4413-a433-04a3eff12519",
   "metadata": {},
   "outputs": [],
   "source": []
  },
  {
   "cell_type": "code",
   "execution_count": null,
   "id": "c35f5580-24d6-4af6-bfac-972b09709d03",
   "metadata": {},
   "outputs": [],
   "source": []
  },
  {
   "cell_type": "code",
   "execution_count": null,
   "id": "0ca64a00-d6be-4334-a0d3-b9d82976c671",
   "metadata": {},
   "outputs": [],
   "source": []
  }
 ],
 "metadata": {
  "kernelspec": {
   "display_name": "Python 3 (ipykernel)",
   "language": "python",
   "name": "python3"
  },
  "language_info": {
   "codemirror_mode": {
    "name": "ipython",
    "version": 3
   },
   "file_extension": ".py",
   "mimetype": "text/x-python",
   "name": "python",
   "nbconvert_exporter": "python",
   "pygments_lexer": "ipython3",
   "version": "3.9.12"
  }
 },
 "nbformat": 4,
 "nbformat_minor": 5
}
