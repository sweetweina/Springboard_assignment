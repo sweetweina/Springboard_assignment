{
 "cells": [
  {
   "cell_type": "markdown",
   "id": "b51d366f-7fca-4992-87a8-5a5724d03a73",
   "metadata": {},
   "source": [
    "# I'm Not On Career Training, Do Not Need These. I've talked with my mentor!"
   ]
  }
 ],
 "metadata": {
  "kernelspec": {
   "display_name": "Python 3 (ipykernel)",
   "language": "python",
   "name": "python3"
  },
  "language_info": {
   "codemirror_mode": {
    "name": "ipython",
    "version": 3
   },
   "file_extension": ".py",
   "mimetype": "text/x-python",
   "name": "python",
   "nbconvert_exporter": "python",
   "pygments_lexer": "ipython3",
   "version": "3.10.9"
  }
 },
 "nbformat": 4,
 "nbformat_minor": 5
}
