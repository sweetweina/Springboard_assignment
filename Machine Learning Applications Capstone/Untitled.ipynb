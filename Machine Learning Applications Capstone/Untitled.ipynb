{
 "cells": [
  {
   "cell_type": "markdown",
   "id": "3259240d",
   "metadata": {},
   "source": [
    "#Predicting "
   ]
  },
  {
   "cell_type": "code",
   "execution_count": 3,
   "id": "85cd442f",
   "metadata": {},
   "outputs": [],
   "source": [
    "import os\n",
    "import math \n",
    "import numpy as np\n",
    "import pandas as pd\n",
    "import matplotlib.pyplot as plt\n",
    "import seaborn as sns\n",
    "\n",
    "#ignore warning messages to ensure clean outputs\n",
    "import warnings\n",
    "warnings.filterwarnings('ignore')"
   ]
  },
  {
   "cell_type": "code",
   "execution_count": 12,
   "id": "e4cb07d1",
   "metadata": {},
   "outputs": [
    {
     "data": {
      "text/html": [
       "<div>\n",
       "<style scoped>\n",
       "    .dataframe tbody tr th:only-of-type {\n",
       "        vertical-align: middle;\n",
       "    }\n",
       "\n",
       "    .dataframe tbody tr th {\n",
       "        vertical-align: top;\n",
       "    }\n",
       "\n",
       "    .dataframe thead th {\n",
       "        text-align: right;\n",
       "    }\n",
       "</style>\n",
       "<table border=\"1\" class=\"dataframe\">\n",
       "  <thead>\n",
       "    <tr style=\"text-align: right;\">\n",
       "      <th></th>\n",
       "      <th>jornal_url</th>\n",
       "      <th>journal</th>\n",
       "      <th>article_number</th>\n",
       "      <th>citation_number</th>\n",
       "      <th>impact_factor</th>\n",
       "      <th>most_cited</th>\n",
       "      <th>year</th>\n",
       "      <th>cited_by</th>\n",
       "      <th>Search_Keywords</th>\n",
       "    </tr>\n",
       "  </thead>\n",
       "  <tbody>\n",
       "    <tr>\n",
       "      <th>0</th>\n",
       "      <td>/journal/20204/nano</td>\n",
       "      <td>Nano</td>\n",
       "      <td>1600.0</td>\n",
       "      <td>9000.0</td>\n",
       "      <td>1.1</td>\n",
       "      <td>INVESTIGATION OF HOMOLOGOUS SERIES AS PRECURSO...</td>\n",
       "      <td>2011.0</td>\n",
       "      <td>218.0</td>\n",
       "      <td>cancer+nano</td>\n",
       "    </tr>\n",
       "    <tr>\n",
       "      <th>1</th>\n",
       "      <td>/journal/27969/nano-structures-nano-objects</td>\n",
       "      <td>Nano Structures Nano Objects</td>\n",
       "      <td>576.0</td>\n",
       "      <td>7300.0</td>\n",
       "      <td>5.5</td>\n",
       "      <td>Chapter 3 Super-resolution microscopy using su...</td>\n",
       "      <td>2006.0</td>\n",
       "      <td>1.0</td>\n",
       "      <td>cancer+nano</td>\n",
       "    </tr>\n",
       "    <tr>\n",
       "      <th>2</th>\n",
       "      <td>/journal/88571/advances-in-nano-optics-and-nan...</td>\n",
       "      <td>Advances in Nano-optics and Nano-photonics</td>\n",
       "      <td>18.0</td>\n",
       "      <td>3.0</td>\n",
       "      <td>NaN</td>\n",
       "      <td>Recent developments in functionalized polymer ...</td>\n",
       "      <td>2019.0</td>\n",
       "      <td>141.0</td>\n",
       "      <td>cancer+nano</td>\n",
       "    </tr>\n",
       "    <tr>\n",
       "      <th>3</th>\n",
       "      <td>/journal/12805/nano-letters</td>\n",
       "      <td>Nano Letters</td>\n",
       "      <td>18100.0</td>\n",
       "      <td>1900000.0</td>\n",
       "      <td>11.3</td>\n",
       "      <td>Superior thermal conductivity of single-layer ...</td>\n",
       "      <td>2008.0</td>\n",
       "      <td>9800.0</td>\n",
       "      <td>cancer+nano</td>\n",
       "    </tr>\n",
       "    <tr>\n",
       "      <th>4</th>\n",
       "      <td>/journal/12906/acs-nano</td>\n",
       "      <td>ACS Nano</td>\n",
       "      <td>16700.0</td>\n",
       "      <td>1400000.0</td>\n",
       "      <td>16.4</td>\n",
       "      <td>Improved synthesis of graphene oxide</td>\n",
       "      <td>2010.0</td>\n",
       "      <td>8200.0</td>\n",
       "      <td>cancer+nano</td>\n",
       "    </tr>\n",
       "  </tbody>\n",
       "</table>\n",
       "</div>"
      ],
      "text/plain": [
       "                                          jornal_url  \\\n",
       "0                                /journal/20204/nano   \n",
       "1        /journal/27969/nano-structures-nano-objects   \n",
       "2  /journal/88571/advances-in-nano-optics-and-nan...   \n",
       "3                        /journal/12805/nano-letters   \n",
       "4                            /journal/12906/acs-nano   \n",
       "\n",
       "                                      journal  article_number  \\\n",
       "0                                        Nano          1600.0   \n",
       "1                Nano Structures Nano Objects           576.0   \n",
       "2  Advances in Nano-optics and Nano-photonics            18.0   \n",
       "3                                Nano Letters         18100.0   \n",
       "4                                    ACS Nano         16700.0   \n",
       "\n",
       "   citation_number  impact_factor  \\\n",
       "0           9000.0            1.1   \n",
       "1           7300.0            5.5   \n",
       "2              3.0            NaN   \n",
       "3        1900000.0           11.3   \n",
       "4        1400000.0           16.4   \n",
       "\n",
       "                                          most_cited    year  cited_by  \\\n",
       "0  INVESTIGATION OF HOMOLOGOUS SERIES AS PRECURSO...  2011.0     218.0   \n",
       "1  Chapter 3 Super-resolution microscopy using su...  2006.0       1.0   \n",
       "2  Recent developments in functionalized polymer ...  2019.0     141.0   \n",
       "3  Superior thermal conductivity of single-layer ...  2008.0    9800.0   \n",
       "4               Improved synthesis of graphene oxide  2010.0    8200.0   \n",
       "\n",
       "  Search_Keywords  \n",
       "0     cancer+nano  \n",
       "1     cancer+nano  \n",
       "2     cancer+nano  \n",
       "3     cancer+nano  \n",
       "4     cancer+nano  "
      ]
     },
     "execution_count": 12,
     "metadata": {},
     "output_type": "execute_result"
    }
   ],
   "source": [
    "raw_data = pd.read_csv('impact_factor_merged_file.csv')\n",
    "raw_data.head()"
   ]
  },
  {
   "cell_type": "code",
   "execution_count": 13,
   "id": "e6b48cff",
   "metadata": {},
   "outputs": [
    {
     "name": "stdout",
     "output_type": "stream",
     "text": [
      "<class 'pandas.core.frame.DataFrame'>\n",
      "RangeIndex: 2604 entries, 0 to 2603\n",
      "Data columns (total 9 columns):\n",
      " #   Column           Non-Null Count  Dtype  \n",
      "---  ------           --------------  -----  \n",
      " 0   jornal_url       2604 non-null   object \n",
      " 1   journal          2604 non-null   object \n",
      " 2   article_number   2604 non-null   float64\n",
      " 3   citation_number  2590 non-null   float64\n",
      " 4   impact_factor    1767 non-null   float64\n",
      " 5   most_cited       2583 non-null   object \n",
      " 6   year             2559 non-null   float64\n",
      " 7   cited_by         2582 non-null   float64\n",
      " 8   Search_Keywords  2604 non-null   object \n",
      "dtypes: float64(5), object(4)\n",
      "memory usage: 183.2+ KB\n"
     ]
    }
   ],
   "source": [
    "raw_data.info()"
   ]
  },
  {
   "cell_type": "code",
   "execution_count": 16,
   "id": "a8fd8003",
   "metadata": {},
   "outputs": [],
   "source": [
    "# Drop columns with missing values\n",
    "clean_data = raw_data.dropna(axis=1)\n",
    "\n",
    "# Drop columns with missing values\n",
    "clean_data = raw_data.dropna(axis=0)\n",
    "\n",
    "# Remove duplicates\n",
    "clean_data = clean_data.drop_duplicates()"
   ]
  },
  {
   "cell_type": "code",
   "execution_count": 17,
   "id": "1111b752",
   "metadata": {},
   "outputs": [
    {
     "name": "stdout",
     "output_type": "stream",
     "text": [
      "<class 'pandas.core.frame.DataFrame'>\n",
      "Int64Index: 1751 entries, 0 to 2600\n",
      "Data columns (total 9 columns):\n",
      " #   Column           Non-Null Count  Dtype  \n",
      "---  ------           --------------  -----  \n",
      " 0   jornal_url       1751 non-null   object \n",
      " 1   journal          1751 non-null   object \n",
      " 2   article_number   1751 non-null   float64\n",
      " 3   citation_number  1751 non-null   float64\n",
      " 4   impact_factor    1751 non-null   float64\n",
      " 5   most_cited       1751 non-null   object \n",
      " 6   year             1751 non-null   float64\n",
      " 7   cited_by         1751 non-null   float64\n",
      " 8   Search_Keywords  1751 non-null   object \n",
      "dtypes: float64(5), object(4)\n",
      "memory usage: 136.8+ KB\n"
     ]
    }
   ],
   "source": [
    "clean_data.info()"
   ]
  },
  {
   "cell_type": "code",
   "execution_count": null,
   "id": "a4ad5a5a",
   "metadata": {},
   "outputs": [],
   "source": [
    "clean_data[['First Name', 'Last Name']] = df['Full Name'].str.split(expand=True)"
   ]
  },
  {
   "cell_type": "code",
   "execution_count": null,
   "id": "6c2a69fc",
   "metadata": {},
   "outputs": [],
   "source": []
  },
  {
   "cell_type": "code",
   "execution_count": null,
   "id": "ea0c56f4",
   "metadata": {},
   "outputs": [],
   "source": []
  },
  {
   "cell_type": "code",
   "execution_count": null,
   "id": "5ad7b499",
   "metadata": {},
   "outputs": [],
   "source": []
  },
  {
   "cell_type": "code",
   "execution_count": null,
   "id": "0ad5b422",
   "metadata": {},
   "outputs": [],
   "source": []
  },
  {
   "cell_type": "code",
   "execution_count": null,
   "id": "0d507bf6",
   "metadata": {},
   "outputs": [],
   "source": []
  },
  {
   "cell_type": "code",
   "execution_count": null,
   "id": "ef04b5c6",
   "metadata": {},
   "outputs": [],
   "source": []
  }
 ],
 "metadata": {
  "kernelspec": {
   "display_name": "Python 3 (ipykernel)",
   "language": "python",
   "name": "python3"
  },
  "language_info": {
   "codemirror_mode": {
    "name": "ipython",
    "version": 3
   },
   "file_extension": ".py",
   "mimetype": "text/x-python",
   "name": "python",
   "nbconvert_exporter": "python",
   "pygments_lexer": "ipython3",
   "version": "3.9.12"
  }
 },
 "nbformat": 4,
 "nbformat_minor": 5
}
