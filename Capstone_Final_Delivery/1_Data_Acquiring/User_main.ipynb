{
 "cells": [
  {
   "cell_type": "markdown",
   "id": "dcdf0470-6af3-44c2-b865-b748898225b5",
   "metadata": {},
   "source": []
  },
  {
   "cell_type": "code",
   "execution_count": 54,
   "id": "f7977c2e-aeb8-4298-ab81-49a0d2bac60e",
   "metadata": {},
   "outputs": [
    {
     "name": "stdout",
     "output_type": "stream",
     "text": [
      "The autoreload extension is already loaded. To reload it, use:\n",
      "  %reload_ext autoreload\n"
     ]
    }
   ],
   "source": [
    "%load_ext autoreload\n",
    "%autoreload 2"
   ]
  },
  {
   "cell_type": "code",
   "execution_count": 55,
   "id": "d0bd210c-8202-4862-92f4-144cf3801be4",
   "metadata": {},
   "outputs": [],
   "source": [
    "from Impact_factor_analysis_tools import *\n",
    "import pandas as pd"
   ]
  },
  {
   "cell_type": "markdown",
   "id": "29a804a8-f5a3-4edb-a82e-170b8870dfc3",
   "metadata": {},
   "source": [
    "url=\"https://exaly.com/journal/12441/\""
   ]
  },
  {
   "cell_type": "markdown",
   "id": "6e753908-cace-414a-b584-f667b604b252",
   "metadata": {},
   "source": [
    "combine = get_impact_factor_info(url)"
   ]
  },
  {
   "cell_type": "code",
   "execution_count": 50,
   "id": "9a69c35f-3f8c-47fc-af2f-964d81bdeddc",
   "metadata": {},
   "outputs": [
    {
     "name": "stdout",
     "output_type": "stream",
     "text": [
      "On page 1\n",
      "On page 2\n",
      "On page 3\n",
      "On page 4\n",
      "On page 5\n",
      "On page 6\n",
      "On page 7\n",
      "On page 8\n",
      "On page 9\n",
      "On page 10\n",
      "Done!\n"
     ]
    }
   ],
   "source": [
    "full_datasets = get_list_of_search(\"cancer+nanotechnology+nano\")"
   ]
  },
  {
   "cell_type": "code",
   "execution_count": 56,
   "id": "5ef25ff7-4d66-441a-8333-b2bd63c98d48",
   "metadata": {},
   "outputs": [
    {
     "data": {
      "text/plain": [
       "479"
      ]
     },
     "execution_count": 56,
     "metadata": {},
     "output_type": "execute_result"
    }
   ],
   "source": [
    "len(full_datasets)"
   ]
  },
  {
   "cell_type": "code",
   "execution_count": 57,
   "id": "ff958286-d59c-40cf-83ac-751fa2b98170",
   "metadata": {},
   "outputs": [],
   "source": [
    "header_full_datasets =  [\"jornal_url\", \"journal\", \"article_number\", \"citation_number\", \"impact_factor\"]\n",
    "df_full_datasets = pd.DataFrame(full_datasets, columns = header_full_datasets)"
   ]
  },
  {
   "cell_type": "code",
   "execution_count": 63,
   "id": "18b48db5-31a0-46a4-85c9-d277df96b7f1",
   "metadata": {},
   "outputs": [
    {
     "data": {
      "text/plain": [
       "['/journal/35949/cancer-nanotechnology',\n",
       " '/journal/20204/nano',\n",
       " '/journal/12736/nanotechnology',\n",
       " '/journal/27969/nano-structures-nano-objects']"
      ]
     },
     "execution_count": 63,
     "metadata": {},
     "output_type": "execute_result"
    }
   ],
   "source": [
    "article_list=df_full_datasets[\"jornal_url\"].tolist()\n",
    "article_list[0:4]"
   ]
  },
  {
   "cell_type": "code",
   "execution_count": 71,
   "id": "12ed6b07-1fa5-487f-baed-7b080e06acd1",
   "metadata": {},
   "outputs": [
    {
     "name": "stdout",
     "output_type": "stream",
     "text": [
      "Getting article information: [████████████████████████████████████████████████████████████████████████████████████████████████████] 479/479\r"
     ]
    }
   ],
   "source": [
    "most_cited_list=get_most_cited_article(article_list)"
   ]
  },
  {
   "cell_type": "code",
   "execution_count": 72,
   "id": "e2cc63b5-3ab6-4815-bbe4-407208f12f05",
   "metadata": {},
   "outputs": [
    {
     "data": {
      "text/plain": [
       "[['Gold nanoparticles for cancer radiotherapy: a review', 2016.0, 227.0],\n",
       " ['INVESTIGATION OF HOMOLOGOUS SERIES AS PRECURSORY HYDROCARBONS FOR ALIGNED CARBON NANOTUBE FORMATION BY THE SPRAY PYROLYSIS METHOD',\n",
       "  2011.0,\n",
       "  217.0],\n",
       " ['The bactericidal effect of silver nanoparticles', 2005.0, 4600.0],\n",
       " ['Recent developments in functionalized polymer nanoparticles for efficient drug delivery system',\n",
       "  2019.0,\n",
       "  137.0]]"
      ]
     },
     "execution_count": 72,
     "metadata": {},
     "output_type": "execute_result"
    }
   ],
   "source": [
    "most_cited_list[0:4]"
   ]
  },
  {
   "cell_type": "code",
   "execution_count": 73,
   "id": "21cce22f-2526-4aa5-b47b-486edc5915e2",
   "metadata": {},
   "outputs": [],
   "source": [
    "header_most_cited_list =  [\"most_cited\", \"year\", \"cited_by\"]\n",
    "df_most_cited = pd.DataFrame(most_cited_list, columns = header_most_cited_list)"
   ]
  },
  {
   "cell_type": "code",
   "execution_count": 74,
   "id": "580e5dad-ac67-4268-af82-be43a951ae03",
   "metadata": {},
   "outputs": [],
   "source": [
    "df_full_datasets[\"most_cited\"]=df_most_cited[\"most_cited\"]\n",
    "df_full_datasets[\"year\"]=df_most_cited[\"year\"]\n",
    "df_full_datasets[\"cited_by\"]=df_most_cited[\"cited_by\"]"
   ]
  },
  {
   "cell_type": "code",
   "execution_count": 77,
   "id": "14b05ae2-8c66-415a-9c5b-f55a00790646",
   "metadata": {},
   "outputs": [
    {
     "data": {
      "text/html": [
       "<div>\n",
       "<style scoped>\n",
       "    .dataframe tbody tr th:only-of-type {\n",
       "        vertical-align: middle;\n",
       "    }\n",
       "\n",
       "    .dataframe tbody tr th {\n",
       "        vertical-align: top;\n",
       "    }\n",
       "\n",
       "    .dataframe thead th {\n",
       "        text-align: right;\n",
       "    }\n",
       "</style>\n",
       "<table border=\"1\" class=\"dataframe\">\n",
       "  <thead>\n",
       "    <tr style=\"text-align: right;\">\n",
       "      <th></th>\n",
       "      <th>jornal_url</th>\n",
       "      <th>journal</th>\n",
       "      <th>article_number</th>\n",
       "      <th>citation_number</th>\n",
       "      <th>impact_factor</th>\n",
       "      <th>most_cited</th>\n",
       "      <th>year</th>\n",
       "      <th>cited_by</th>\n",
       "    </tr>\n",
       "  </thead>\n",
       "  <tbody>\n",
       "    <tr>\n",
       "      <th>0</th>\n",
       "      <td>/journal/35949/cancer-nanotechnology</td>\n",
       "      <td>Cancer Nanotechnology</td>\n",
       "      <td>136.0</td>\n",
       "      <td>3100.0</td>\n",
       "      <td>7.3</td>\n",
       "      <td>Gold nanoparticles for cancer radiotherapy: a ...</td>\n",
       "      <td>2016.0</td>\n",
       "      <td>227.0</td>\n",
       "    </tr>\n",
       "    <tr>\n",
       "      <th>1</th>\n",
       "      <td>/journal/20204/nano</td>\n",
       "      <td>Nano</td>\n",
       "      <td>1600.0</td>\n",
       "      <td>8900.0</td>\n",
       "      <td>1.1</td>\n",
       "      <td>INVESTIGATION OF HOMOLOGOUS SERIES AS PRECURSO...</td>\n",
       "      <td>2011.0</td>\n",
       "      <td>217.0</td>\n",
       "    </tr>\n",
       "    <tr>\n",
       "      <th>2</th>\n",
       "      <td>/journal/12736/nanotechnology</td>\n",
       "      <td>Nanotechnology</td>\n",
       "      <td>20200.0</td>\n",
       "      <td>547400.0</td>\n",
       "      <td>3.3</td>\n",
       "      <td>The bactericidal effect of silver nanoparticles</td>\n",
       "      <td>2005.0</td>\n",
       "      <td>4600.0</td>\n",
       "    </tr>\n",
       "    <tr>\n",
       "      <th>3</th>\n",
       "      <td>/journal/27969/nano-structures-nano-objects</td>\n",
       "      <td>Nano Structures Nano Objects</td>\n",
       "      <td>576.0</td>\n",
       "      <td>7200.0</td>\n",
       "      <td>5.5</td>\n",
       "      <td>Recent developments in functionalized polymer ...</td>\n",
       "      <td>2019.0</td>\n",
       "      <td>137.0</td>\n",
       "    </tr>\n",
       "    <tr>\n",
       "      <th>4</th>\n",
       "      <td>/journal/88571/advances-in-nano-optics-and-nan...</td>\n",
       "      <td>Advances in Nano-optics and Nano-photonics</td>\n",
       "      <td>18.0</td>\n",
       "      <td>3.0</td>\n",
       "      <td>N/A</td>\n",
       "      <td>Chapter 3 Super-resolution microscopy using su...</td>\n",
       "      <td>2006.0</td>\n",
       "      <td>1.0</td>\n",
       "    </tr>\n",
       "  </tbody>\n",
       "</table>\n",
       "</div>"
      ],
      "text/plain": [
       "                                          jornal_url  \\\n",
       "0               /journal/35949/cancer-nanotechnology   \n",
       "1                                /journal/20204/nano   \n",
       "2                      /journal/12736/nanotechnology   \n",
       "3        /journal/27969/nano-structures-nano-objects   \n",
       "4  /journal/88571/advances-in-nano-optics-and-nan...   \n",
       "\n",
       "                                      journal  article_number citation_number  \\\n",
       "0                       Cancer Nanotechnology           136.0          3100.0   \n",
       "1                                        Nano          1600.0          8900.0   \n",
       "2                              Nanotechnology         20200.0        547400.0   \n",
       "3                Nano Structures Nano Objects           576.0          7200.0   \n",
       "4  Advances in Nano-optics and Nano-photonics            18.0             3.0   \n",
       "\n",
       "  impact_factor                                         most_cited    year  \\\n",
       "0           7.3  Gold nanoparticles for cancer radiotherapy: a ...  2016.0   \n",
       "1           1.1  INVESTIGATION OF HOMOLOGOUS SERIES AS PRECURSO...  2011.0   \n",
       "2           3.3    The bactericidal effect of silver nanoparticles  2005.0   \n",
       "3           5.5  Recent developments in functionalized polymer ...  2019.0   \n",
       "4           N/A  Chapter 3 Super-resolution microscopy using su...  2006.0   \n",
       "\n",
       "  cited_by  \n",
       "0    227.0  \n",
       "1    217.0  \n",
       "2   4600.0  \n",
       "3    137.0  \n",
       "4      1.0  "
      ]
     },
     "execution_count": 77,
     "metadata": {},
     "output_type": "execute_result"
    }
   ],
   "source": [
    "\n",
    "filename = 'Master_literature_impact_factor.csv'\n",
    "header =  [\"jornal_url\", \"journal\", \"article_number\", \"citation_number\", \"impact_factor\"]\n",
    "force_initialize_output = True\n",
    "#force_initialize_output = False\n",
    "create_search_record(filename, header, force_initialize_output)\n",
    "df_full_datasets.to_csv(filename,  index=False)\n",
    "df_full_datasets.head()"
   ]
  },
  {
   "cell_type": "code",
   "execution_count": 46,
   "id": "3b0b7ba7-2f4a-4887-9d4e-e74278bfc45c",
   "metadata": {},
   "outputs": [
    {
     "data": {
      "text/html": [
       "<div>\n",
       "<style scoped>\n",
       "    .dataframe tbody tr th:only-of-type {\n",
       "        vertical-align: middle;\n",
       "    }\n",
       "\n",
       "    .dataframe tbody tr th {\n",
       "        vertical-align: top;\n",
       "    }\n",
       "\n",
       "    .dataframe thead th {\n",
       "        text-align: right;\n",
       "    }\n",
       "</style>\n",
       "<table border=\"1\" class=\"dataframe\">\n",
       "  <thead>\n",
       "    <tr style=\"text-align: right;\">\n",
       "      <th></th>\n",
       "      <th>jornal_url</th>\n",
       "      <th>journal</th>\n",
       "      <th>article_number</th>\n",
       "      <th>citation_number</th>\n",
       "      <th>impact_factor</th>\n",
       "    </tr>\n",
       "  </thead>\n",
       "  <tbody>\n",
       "    <tr>\n",
       "      <th>0</th>\n",
       "      <td>/journal/35949/cancer-nanotechnology</td>\n",
       "      <td>Cancer Nanotechnology</td>\n",
       "      <td>136.0</td>\n",
       "      <td>3100.0</td>\n",
       "      <td>7.3</td>\n",
       "    </tr>\n",
       "    <tr>\n",
       "      <th>1</th>\n",
       "      <td>/journal/20204/nano</td>\n",
       "      <td>Nano</td>\n",
       "      <td>1600.0</td>\n",
       "      <td>8900.0</td>\n",
       "      <td>1.1</td>\n",
       "    </tr>\n",
       "    <tr>\n",
       "      <th>2</th>\n",
       "      <td>/journal/12736/nanotechnology</td>\n",
       "      <td>Nanotechnology</td>\n",
       "      <td>20200.0</td>\n",
       "      <td>547400.0</td>\n",
       "      <td>3.3</td>\n",
       "    </tr>\n",
       "    <tr>\n",
       "      <th>3</th>\n",
       "      <td>/journal/27969/nano-structures-nano-objects</td>\n",
       "      <td>Nano Structures Nano Objects</td>\n",
       "      <td>576.0</td>\n",
       "      <td>7200.0</td>\n",
       "      <td>5.5</td>\n",
       "    </tr>\n",
       "    <tr>\n",
       "      <th>4</th>\n",
       "      <td>/journal/88571/advances-in-nano-optics-and-nan...</td>\n",
       "      <td>Advances in Nano-optics and Nano-photonics</td>\n",
       "      <td>18.0</td>\n",
       "      <td>3.0</td>\n",
       "      <td>N/A</td>\n",
       "    </tr>\n",
       "  </tbody>\n",
       "</table>\n",
       "</div>"
      ],
      "text/plain": [
       "                                          jornal_url  \\\n",
       "0               /journal/35949/cancer-nanotechnology   \n",
       "1                                /journal/20204/nano   \n",
       "2                      /journal/12736/nanotechnology   \n",
       "3        /journal/27969/nano-structures-nano-objects   \n",
       "4  /journal/88571/advances-in-nano-optics-and-nan...   \n",
       "\n",
       "                                      journal  article_number citation_number  \\\n",
       "0                       Cancer Nanotechnology           136.0          3100.0   \n",
       "1                                        Nano          1600.0          8900.0   \n",
       "2                              Nanotechnology         20200.0        547400.0   \n",
       "3                Nano Structures Nano Objects           576.0          7200.0   \n",
       "4  Advances in Nano-optics and Nano-photonics            18.0             3.0   \n",
       "\n",
       "  impact_factor  \n",
       "0           7.3  \n",
       "1           1.1  \n",
       "2           3.3  \n",
       "3           5.5  \n",
       "4           N/A  "
      ]
     },
     "execution_count": 46,
     "metadata": {},
     "output_type": "execute_result"
    }
   ],
   "source": []
  }
 ],
 "metadata": {
  "kernelspec": {
   "display_name": "Python 3 (ipykernel)",
   "language": "python",
   "name": "python3"
  },
  "language_info": {
   "codemirror_mode": {
    "name": "ipython",
    "version": 3
   },
   "file_extension": ".py",
   "mimetype": "text/x-python",
   "name": "python",
   "nbconvert_exporter": "python",
   "pygments_lexer": "ipython3",
   "version": "3.9.12"
  }
 },
 "nbformat": 4,
 "nbformat_minor": 5
}
