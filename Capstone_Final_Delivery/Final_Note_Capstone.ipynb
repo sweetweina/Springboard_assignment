{
 "cells": [
  {
   "cell_type": "markdown",
   "id": "f3a33edc-b5d9-4399-906c-ea53e1b1734c",
   "metadata": {
    "tags": []
   },
   "source": [
    "# Final Project Report Codebook\n",
    "## Identify good journal and good article\n",
    "### Weina Ke"
   ]
  },
  {
   "cell_type": "markdown",
   "id": "231eec58-2dd4-45d2-b5b0-16d1e5c55d74",
   "metadata": {},
   "source": [
    "<font size=\"4\">\n",
    "    The reasearch of anything generally starts from gathering information, and for scientific research, this specific act is given an interesting name call literature review. The process of literature review often starts by gathering enough research papers to build a basic knowledge base, which involves tidious amount of searching and reading, and most fraustring part of this process is, this article might not be a credible source. Same thing goes for later on publishing your research, it's rather head scratching to find a \"right\" journal to publish. \n",
    "    Most of the time when you ask your mentor/professor, they would say, go find ones that has high impact fator (IF). IF is a calculated value based on a two-year period and involves dividing the number of times articles were cited by the number of articles that are citable. (https://researchguides.uic.edu/if/impact) This value is somewhat arbitruray based on which field you are researching in, since the popularity of a field also affects how many articles are there to cite and be cited. \n",
    "    In general, a higher than average impact factor does mean the journal is popular, but how there are tons of journals and articles out there, how should a naive user like us get started without any background? And as paronoid as a scientist should be, does this impact factor reflect the past glory of the journal, and what is the role of most cited paper play in this journal. This would help researcher get head start in picking the journals and articles to read.\n",
    "</font>"
   ]
  },
  {
   "cell_type": "markdown",
   "id": "421de9ce-4b5a-43fc-95eb-9cac9aff61c5",
   "metadata": {},
   "source": [
    "# #1. Data\n",
    "<font size=\"4\">\n",
    "    Search tools researcher generally use can diverse based on available source, for instance, if your institute has subscription to professional database or large publish vendors like Elsevier, you might be able to search directly in the database website. The best literature research tool is the google scholar, which gives basically all that exists in public internet, and you can request articles that aren't free through your institute.\n",
    "    The google scholoar provides top related article on specific search terms and provides the citation number, but the most cited articles doesn't really represent the best article for your topic, and especially hard for starters to build the knowloge base. Better approach would be finding high IF journal in your field and looking into their best articles.\n",
    "    To do this, we here recommned https://exaly.com/, which is \"a non-profit endeavour to address the absence of a comprehensive, unbiased, and independent bibliographic database.\" On here, you can get IF of journal for free (believe it or not, getting IF of a journal sometimes has a cost for some reason\". \n",
    "    The exaly website supports web scraping, thus the data will be gathered with designated script. In this project, we will use field of <strong>nanomaterial for cancer research</strong> as example.\n",
    "</font>\n",
    "### exaly statics: https://exaly.com/statistics.html\n",
    "### exaly journal coverage and licence information: https://exaly.com/about.html\n",
    "### GitHub script link: "
   ]
  },
  {
   "cell_type": "code",
   "execution_count": null,
   "id": "0931fb82-4b57-4270-8242-20b8f34dc21e",
   "metadata": {},
   "outputs": [],
   "source": []
  },
  {
   "cell_type": "code",
   "execution_count": null,
   "id": "b3440b22-48d1-4dc7-a94a-bf910f34f532",
   "metadata": {},
   "outputs": [],
   "source": []
  },
  {
   "cell_type": "code",
   "execution_count": null,
   "id": "66556ddf-51e5-459c-9fe3-0c6521aab1d1",
   "metadata": {},
   "outputs": [],
   "source": []
  },
  {
   "cell_type": "code",
   "execution_count": null,
   "id": "bc2141fa-89f0-4841-a1e4-9ea2ee544add",
   "metadata": {},
   "outputs": [],
   "source": []
  },
  {
   "cell_type": "code",
   "execution_count": null,
   "id": "72a2bb01-ae4f-4e76-abed-552dcec95241",
   "metadata": {},
   "outputs": [],
   "source": []
  },
  {
   "cell_type": "code",
   "execution_count": null,
   "id": "4671686e-1312-4498-bebc-f5995820421d",
   "metadata": {},
   "outputs": [],
   "source": []
  }
 ],
 "metadata": {
  "kernelspec": {
   "display_name": "Python 3 (ipykernel)",
   "language": "python",
   "name": "python3"
  },
  "language_info": {
   "codemirror_mode": {
    "name": "ipython",
    "version": 3
   },
   "file_extension": ".py",
   "mimetype": "text/x-python",
   "name": "python",
   "nbconvert_exporter": "python",
   "pygments_lexer": "ipython3",
   "version": "3.9.12"
  }
 },
 "nbformat": 4,
 "nbformat_minor": 5
}
